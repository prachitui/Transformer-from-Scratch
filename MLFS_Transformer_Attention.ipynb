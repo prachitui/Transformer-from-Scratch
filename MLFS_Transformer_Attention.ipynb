{
  "nbformat": 4,
  "nbformat_minor": 0,
  "metadata": {
    "colab": {
      "provenance": [],
      "collapsed_sections": [
        "1FvTRFr_M-Rx"
      ]
    },
    "kernelspec": {
      "name": "python3",
      "display_name": "Python 3"
    },
    "language_info": {
      "name": "python"
    },
    "widgets": {
      "application/vnd.jupyter.widget-state+json": {
        "ea416ef2b95d442e88cdfd980ce38ef4": {
          "model_module": "@jupyter-widgets/controls",
          "model_name": "HBoxModel",
          "model_module_version": "1.5.0",
          "state": {
            "_dom_classes": [],
            "_model_module": "@jupyter-widgets/controls",
            "_model_module_version": "1.5.0",
            "_model_name": "HBoxModel",
            "_view_count": null,
            "_view_module": "@jupyter-widgets/controls",
            "_view_module_version": "1.5.0",
            "_view_name": "HBoxView",
            "box_style": "",
            "children": [
              "IPY_MODEL_32b61951f67346e1b2420cd8b408df85",
              "IPY_MODEL_577d94171cd6468aa37b6cea571ca8df",
              "IPY_MODEL_66f31f058e4249dfb3564a98c5b92b24"
            ],
            "layout": "IPY_MODEL_57e9015bfb3440fd8a9495d87b7127b2"
          }
        },
        "32b61951f67346e1b2420cd8b408df85": {
          "model_module": "@jupyter-widgets/controls",
          "model_name": "HTMLModel",
          "model_module_version": "1.5.0",
          "state": {
            "_dom_classes": [],
            "_model_module": "@jupyter-widgets/controls",
            "_model_module_version": "1.5.0",
            "_model_name": "HTMLModel",
            "_view_count": null,
            "_view_module": "@jupyter-widgets/controls",
            "_view_module_version": "1.5.0",
            "_view_name": "HTMLView",
            "description": "",
            "description_tooltip": null,
            "layout": "IPY_MODEL_b0d9f02e93b048358a26664d9c433bde",
            "placeholder": "​",
            "style": "IPY_MODEL_00cf89d403a84017b511b0f2e4e28446",
            "value": "tokenizer_config.json: 100%"
          }
        },
        "577d94171cd6468aa37b6cea571ca8df": {
          "model_module": "@jupyter-widgets/controls",
          "model_name": "FloatProgressModel",
          "model_module_version": "1.5.0",
          "state": {
            "_dom_classes": [],
            "_model_module": "@jupyter-widgets/controls",
            "_model_module_version": "1.5.0",
            "_model_name": "FloatProgressModel",
            "_view_count": null,
            "_view_module": "@jupyter-widgets/controls",
            "_view_module_version": "1.5.0",
            "_view_name": "ProgressView",
            "bar_style": "success",
            "description": "",
            "description_tooltip": null,
            "layout": "IPY_MODEL_a82d38b7972a4027b20e2e12467b6b5c",
            "max": 26,
            "min": 0,
            "orientation": "horizontal",
            "style": "IPY_MODEL_3c5f7a70ef9e410f97f12aef1bef8d0b",
            "value": 26
          }
        },
        "66f31f058e4249dfb3564a98c5b92b24": {
          "model_module": "@jupyter-widgets/controls",
          "model_name": "HTMLModel",
          "model_module_version": "1.5.0",
          "state": {
            "_dom_classes": [],
            "_model_module": "@jupyter-widgets/controls",
            "_model_module_version": "1.5.0",
            "_model_name": "HTMLModel",
            "_view_count": null,
            "_view_module": "@jupyter-widgets/controls",
            "_view_module_version": "1.5.0",
            "_view_name": "HTMLView",
            "description": "",
            "description_tooltip": null,
            "layout": "IPY_MODEL_5c588cce86f24ca0bc4b253f0c4f24e2",
            "placeholder": "​",
            "style": "IPY_MODEL_e7c68274bb50484899d3f2b3b2c0a4d2",
            "value": " 26.0/26.0 [00:00&lt;00:00, 464B/s]"
          }
        },
        "57e9015bfb3440fd8a9495d87b7127b2": {
          "model_module": "@jupyter-widgets/base",
          "model_name": "LayoutModel",
          "model_module_version": "1.2.0",
          "state": {
            "_model_module": "@jupyter-widgets/base",
            "_model_module_version": "1.2.0",
            "_model_name": "LayoutModel",
            "_view_count": null,
            "_view_module": "@jupyter-widgets/base",
            "_view_module_version": "1.2.0",
            "_view_name": "LayoutView",
            "align_content": null,
            "align_items": null,
            "align_self": null,
            "border": null,
            "bottom": null,
            "display": null,
            "flex": null,
            "flex_flow": null,
            "grid_area": null,
            "grid_auto_columns": null,
            "grid_auto_flow": null,
            "grid_auto_rows": null,
            "grid_column": null,
            "grid_gap": null,
            "grid_row": null,
            "grid_template_areas": null,
            "grid_template_columns": null,
            "grid_template_rows": null,
            "height": null,
            "justify_content": null,
            "justify_items": null,
            "left": null,
            "margin": null,
            "max_height": null,
            "max_width": null,
            "min_height": null,
            "min_width": null,
            "object_fit": null,
            "object_position": null,
            "order": null,
            "overflow": null,
            "overflow_x": null,
            "overflow_y": null,
            "padding": null,
            "right": null,
            "top": null,
            "visibility": null,
            "width": null
          }
        },
        "b0d9f02e93b048358a26664d9c433bde": {
          "model_module": "@jupyter-widgets/base",
          "model_name": "LayoutModel",
          "model_module_version": "1.2.0",
          "state": {
            "_model_module": "@jupyter-widgets/base",
            "_model_module_version": "1.2.0",
            "_model_name": "LayoutModel",
            "_view_count": null,
            "_view_module": "@jupyter-widgets/base",
            "_view_module_version": "1.2.0",
            "_view_name": "LayoutView",
            "align_content": null,
            "align_items": null,
            "align_self": null,
            "border": null,
            "bottom": null,
            "display": null,
            "flex": null,
            "flex_flow": null,
            "grid_area": null,
            "grid_auto_columns": null,
            "grid_auto_flow": null,
            "grid_auto_rows": null,
            "grid_column": null,
            "grid_gap": null,
            "grid_row": null,
            "grid_template_areas": null,
            "grid_template_columns": null,
            "grid_template_rows": null,
            "height": null,
            "justify_content": null,
            "justify_items": null,
            "left": null,
            "margin": null,
            "max_height": null,
            "max_width": null,
            "min_height": null,
            "min_width": null,
            "object_fit": null,
            "object_position": null,
            "order": null,
            "overflow": null,
            "overflow_x": null,
            "overflow_y": null,
            "padding": null,
            "right": null,
            "top": null,
            "visibility": null,
            "width": null
          }
        },
        "00cf89d403a84017b511b0f2e4e28446": {
          "model_module": "@jupyter-widgets/controls",
          "model_name": "DescriptionStyleModel",
          "model_module_version": "1.5.0",
          "state": {
            "_model_module": "@jupyter-widgets/controls",
            "_model_module_version": "1.5.0",
            "_model_name": "DescriptionStyleModel",
            "_view_count": null,
            "_view_module": "@jupyter-widgets/base",
            "_view_module_version": "1.2.0",
            "_view_name": "StyleView",
            "description_width": ""
          }
        },
        "a82d38b7972a4027b20e2e12467b6b5c": {
          "model_module": "@jupyter-widgets/base",
          "model_name": "LayoutModel",
          "model_module_version": "1.2.0",
          "state": {
            "_model_module": "@jupyter-widgets/base",
            "_model_module_version": "1.2.0",
            "_model_name": "LayoutModel",
            "_view_count": null,
            "_view_module": "@jupyter-widgets/base",
            "_view_module_version": "1.2.0",
            "_view_name": "LayoutView",
            "align_content": null,
            "align_items": null,
            "align_self": null,
            "border": null,
            "bottom": null,
            "display": null,
            "flex": null,
            "flex_flow": null,
            "grid_area": null,
            "grid_auto_columns": null,
            "grid_auto_flow": null,
            "grid_auto_rows": null,
            "grid_column": null,
            "grid_gap": null,
            "grid_row": null,
            "grid_template_areas": null,
            "grid_template_columns": null,
            "grid_template_rows": null,
            "height": null,
            "justify_content": null,
            "justify_items": null,
            "left": null,
            "margin": null,
            "max_height": null,
            "max_width": null,
            "min_height": null,
            "min_width": null,
            "object_fit": null,
            "object_position": null,
            "order": null,
            "overflow": null,
            "overflow_x": null,
            "overflow_y": null,
            "padding": null,
            "right": null,
            "top": null,
            "visibility": null,
            "width": null
          }
        },
        "3c5f7a70ef9e410f97f12aef1bef8d0b": {
          "model_module": "@jupyter-widgets/controls",
          "model_name": "ProgressStyleModel",
          "model_module_version": "1.5.0",
          "state": {
            "_model_module": "@jupyter-widgets/controls",
            "_model_module_version": "1.5.0",
            "_model_name": "ProgressStyleModel",
            "_view_count": null,
            "_view_module": "@jupyter-widgets/base",
            "_view_module_version": "1.2.0",
            "_view_name": "StyleView",
            "bar_color": null,
            "description_width": ""
          }
        },
        "5c588cce86f24ca0bc4b253f0c4f24e2": {
          "model_module": "@jupyter-widgets/base",
          "model_name": "LayoutModel",
          "model_module_version": "1.2.0",
          "state": {
            "_model_module": "@jupyter-widgets/base",
            "_model_module_version": "1.2.0",
            "_model_name": "LayoutModel",
            "_view_count": null,
            "_view_module": "@jupyter-widgets/base",
            "_view_module_version": "1.2.0",
            "_view_name": "LayoutView",
            "align_content": null,
            "align_items": null,
            "align_self": null,
            "border": null,
            "bottom": null,
            "display": null,
            "flex": null,
            "flex_flow": null,
            "grid_area": null,
            "grid_auto_columns": null,
            "grid_auto_flow": null,
            "grid_auto_rows": null,
            "grid_column": null,
            "grid_gap": null,
            "grid_row": null,
            "grid_template_areas": null,
            "grid_template_columns": null,
            "grid_template_rows": null,
            "height": null,
            "justify_content": null,
            "justify_items": null,
            "left": null,
            "margin": null,
            "max_height": null,
            "max_width": null,
            "min_height": null,
            "min_width": null,
            "object_fit": null,
            "object_position": null,
            "order": null,
            "overflow": null,
            "overflow_x": null,
            "overflow_y": null,
            "padding": null,
            "right": null,
            "top": null,
            "visibility": null,
            "width": null
          }
        },
        "e7c68274bb50484899d3f2b3b2c0a4d2": {
          "model_module": "@jupyter-widgets/controls",
          "model_name": "DescriptionStyleModel",
          "model_module_version": "1.5.0",
          "state": {
            "_model_module": "@jupyter-widgets/controls",
            "_model_module_version": "1.5.0",
            "_model_name": "DescriptionStyleModel",
            "_view_count": null,
            "_view_module": "@jupyter-widgets/base",
            "_view_module_version": "1.2.0",
            "_view_name": "StyleView",
            "description_width": ""
          }
        },
        "a2cf414f4c5b486dbf779bfaa24cf225": {
          "model_module": "@jupyter-widgets/controls",
          "model_name": "HBoxModel",
          "model_module_version": "1.5.0",
          "state": {
            "_dom_classes": [],
            "_model_module": "@jupyter-widgets/controls",
            "_model_module_version": "1.5.0",
            "_model_name": "HBoxModel",
            "_view_count": null,
            "_view_module": "@jupyter-widgets/controls",
            "_view_module_version": "1.5.0",
            "_view_name": "HBoxView",
            "box_style": "",
            "children": [
              "IPY_MODEL_86b82c6d335744138d6ba0c2c3129be9",
              "IPY_MODEL_78355ec70b564823be09e88474436cf5",
              "IPY_MODEL_b552e26863ac4d0aaa3c1a9972a0a626"
            ],
            "layout": "IPY_MODEL_bbc324fa05974125bafdfbd7898221ac"
          }
        },
        "86b82c6d335744138d6ba0c2c3129be9": {
          "model_module": "@jupyter-widgets/controls",
          "model_name": "HTMLModel",
          "model_module_version": "1.5.0",
          "state": {
            "_dom_classes": [],
            "_model_module": "@jupyter-widgets/controls",
            "_model_module_version": "1.5.0",
            "_model_name": "HTMLModel",
            "_view_count": null,
            "_view_module": "@jupyter-widgets/controls",
            "_view_module_version": "1.5.0",
            "_view_name": "HTMLView",
            "description": "",
            "description_tooltip": null,
            "layout": "IPY_MODEL_97d145142e984e199572809aec9a4274",
            "placeholder": "​",
            "style": "IPY_MODEL_0bf6ad4d9fbe4b3b8833ea24050cafe8",
            "value": "vocab.json: 100%"
          }
        },
        "78355ec70b564823be09e88474436cf5": {
          "model_module": "@jupyter-widgets/controls",
          "model_name": "FloatProgressModel",
          "model_module_version": "1.5.0",
          "state": {
            "_dom_classes": [],
            "_model_module": "@jupyter-widgets/controls",
            "_model_module_version": "1.5.0",
            "_model_name": "FloatProgressModel",
            "_view_count": null,
            "_view_module": "@jupyter-widgets/controls",
            "_view_module_version": "1.5.0",
            "_view_name": "ProgressView",
            "bar_style": "success",
            "description": "",
            "description_tooltip": null,
            "layout": "IPY_MODEL_995fcf8dbc2840aba18612bd8d10bb9b",
            "max": 1042301,
            "min": 0,
            "orientation": "horizontal",
            "style": "IPY_MODEL_4c857b6203d041a2a4d238594636c326",
            "value": 1042301
          }
        },
        "b552e26863ac4d0aaa3c1a9972a0a626": {
          "model_module": "@jupyter-widgets/controls",
          "model_name": "HTMLModel",
          "model_module_version": "1.5.0",
          "state": {
            "_dom_classes": [],
            "_model_module": "@jupyter-widgets/controls",
            "_model_module_version": "1.5.0",
            "_model_name": "HTMLModel",
            "_view_count": null,
            "_view_module": "@jupyter-widgets/controls",
            "_view_module_version": "1.5.0",
            "_view_name": "HTMLView",
            "description": "",
            "description_tooltip": null,
            "layout": "IPY_MODEL_9308ee9b7c6b4a05bdd1a05f3ab2e812",
            "placeholder": "​",
            "style": "IPY_MODEL_c0b41c5884334bd982461d9ee613abf6",
            "value": " 1.04M/1.04M [00:00&lt;00:00, 13.0MB/s]"
          }
        },
        "bbc324fa05974125bafdfbd7898221ac": {
          "model_module": "@jupyter-widgets/base",
          "model_name": "LayoutModel",
          "model_module_version": "1.2.0",
          "state": {
            "_model_module": "@jupyter-widgets/base",
            "_model_module_version": "1.2.0",
            "_model_name": "LayoutModel",
            "_view_count": null,
            "_view_module": "@jupyter-widgets/base",
            "_view_module_version": "1.2.0",
            "_view_name": "LayoutView",
            "align_content": null,
            "align_items": null,
            "align_self": null,
            "border": null,
            "bottom": null,
            "display": null,
            "flex": null,
            "flex_flow": null,
            "grid_area": null,
            "grid_auto_columns": null,
            "grid_auto_flow": null,
            "grid_auto_rows": null,
            "grid_column": null,
            "grid_gap": null,
            "grid_row": null,
            "grid_template_areas": null,
            "grid_template_columns": null,
            "grid_template_rows": null,
            "height": null,
            "justify_content": null,
            "justify_items": null,
            "left": null,
            "margin": null,
            "max_height": null,
            "max_width": null,
            "min_height": null,
            "min_width": null,
            "object_fit": null,
            "object_position": null,
            "order": null,
            "overflow": null,
            "overflow_x": null,
            "overflow_y": null,
            "padding": null,
            "right": null,
            "top": null,
            "visibility": null,
            "width": null
          }
        },
        "97d145142e984e199572809aec9a4274": {
          "model_module": "@jupyter-widgets/base",
          "model_name": "LayoutModel",
          "model_module_version": "1.2.0",
          "state": {
            "_model_module": "@jupyter-widgets/base",
            "_model_module_version": "1.2.0",
            "_model_name": "LayoutModel",
            "_view_count": null,
            "_view_module": "@jupyter-widgets/base",
            "_view_module_version": "1.2.0",
            "_view_name": "LayoutView",
            "align_content": null,
            "align_items": null,
            "align_self": null,
            "border": null,
            "bottom": null,
            "display": null,
            "flex": null,
            "flex_flow": null,
            "grid_area": null,
            "grid_auto_columns": null,
            "grid_auto_flow": null,
            "grid_auto_rows": null,
            "grid_column": null,
            "grid_gap": null,
            "grid_row": null,
            "grid_template_areas": null,
            "grid_template_columns": null,
            "grid_template_rows": null,
            "height": null,
            "justify_content": null,
            "justify_items": null,
            "left": null,
            "margin": null,
            "max_height": null,
            "max_width": null,
            "min_height": null,
            "min_width": null,
            "object_fit": null,
            "object_position": null,
            "order": null,
            "overflow": null,
            "overflow_x": null,
            "overflow_y": null,
            "padding": null,
            "right": null,
            "top": null,
            "visibility": null,
            "width": null
          }
        },
        "0bf6ad4d9fbe4b3b8833ea24050cafe8": {
          "model_module": "@jupyter-widgets/controls",
          "model_name": "DescriptionStyleModel",
          "model_module_version": "1.5.0",
          "state": {
            "_model_module": "@jupyter-widgets/controls",
            "_model_module_version": "1.5.0",
            "_model_name": "DescriptionStyleModel",
            "_view_count": null,
            "_view_module": "@jupyter-widgets/base",
            "_view_module_version": "1.2.0",
            "_view_name": "StyleView",
            "description_width": ""
          }
        },
        "995fcf8dbc2840aba18612bd8d10bb9b": {
          "model_module": "@jupyter-widgets/base",
          "model_name": "LayoutModel",
          "model_module_version": "1.2.0",
          "state": {
            "_model_module": "@jupyter-widgets/base",
            "_model_module_version": "1.2.0",
            "_model_name": "LayoutModel",
            "_view_count": null,
            "_view_module": "@jupyter-widgets/base",
            "_view_module_version": "1.2.0",
            "_view_name": "LayoutView",
            "align_content": null,
            "align_items": null,
            "align_self": null,
            "border": null,
            "bottom": null,
            "display": null,
            "flex": null,
            "flex_flow": null,
            "grid_area": null,
            "grid_auto_columns": null,
            "grid_auto_flow": null,
            "grid_auto_rows": null,
            "grid_column": null,
            "grid_gap": null,
            "grid_row": null,
            "grid_template_areas": null,
            "grid_template_columns": null,
            "grid_template_rows": null,
            "height": null,
            "justify_content": null,
            "justify_items": null,
            "left": null,
            "margin": null,
            "max_height": null,
            "max_width": null,
            "min_height": null,
            "min_width": null,
            "object_fit": null,
            "object_position": null,
            "order": null,
            "overflow": null,
            "overflow_x": null,
            "overflow_y": null,
            "padding": null,
            "right": null,
            "top": null,
            "visibility": null,
            "width": null
          }
        },
        "4c857b6203d041a2a4d238594636c326": {
          "model_module": "@jupyter-widgets/controls",
          "model_name": "ProgressStyleModel",
          "model_module_version": "1.5.0",
          "state": {
            "_model_module": "@jupyter-widgets/controls",
            "_model_module_version": "1.5.0",
            "_model_name": "ProgressStyleModel",
            "_view_count": null,
            "_view_module": "@jupyter-widgets/base",
            "_view_module_version": "1.2.0",
            "_view_name": "StyleView",
            "bar_color": null,
            "description_width": ""
          }
        },
        "9308ee9b7c6b4a05bdd1a05f3ab2e812": {
          "model_module": "@jupyter-widgets/base",
          "model_name": "LayoutModel",
          "model_module_version": "1.2.0",
          "state": {
            "_model_module": "@jupyter-widgets/base",
            "_model_module_version": "1.2.0",
            "_model_name": "LayoutModel",
            "_view_count": null,
            "_view_module": "@jupyter-widgets/base",
            "_view_module_version": "1.2.0",
            "_view_name": "LayoutView",
            "align_content": null,
            "align_items": null,
            "align_self": null,
            "border": null,
            "bottom": null,
            "display": null,
            "flex": null,
            "flex_flow": null,
            "grid_area": null,
            "grid_auto_columns": null,
            "grid_auto_flow": null,
            "grid_auto_rows": null,
            "grid_column": null,
            "grid_gap": null,
            "grid_row": null,
            "grid_template_areas": null,
            "grid_template_columns": null,
            "grid_template_rows": null,
            "height": null,
            "justify_content": null,
            "justify_items": null,
            "left": null,
            "margin": null,
            "max_height": null,
            "max_width": null,
            "min_height": null,
            "min_width": null,
            "object_fit": null,
            "object_position": null,
            "order": null,
            "overflow": null,
            "overflow_x": null,
            "overflow_y": null,
            "padding": null,
            "right": null,
            "top": null,
            "visibility": null,
            "width": null
          }
        },
        "c0b41c5884334bd982461d9ee613abf6": {
          "model_module": "@jupyter-widgets/controls",
          "model_name": "DescriptionStyleModel",
          "model_module_version": "1.5.0",
          "state": {
            "_model_module": "@jupyter-widgets/controls",
            "_model_module_version": "1.5.0",
            "_model_name": "DescriptionStyleModel",
            "_view_count": null,
            "_view_module": "@jupyter-widgets/base",
            "_view_module_version": "1.2.0",
            "_view_name": "StyleView",
            "description_width": ""
          }
        },
        "40f3125722cd4f75beda0d4ef822c7f7": {
          "model_module": "@jupyter-widgets/controls",
          "model_name": "HBoxModel",
          "model_module_version": "1.5.0",
          "state": {
            "_dom_classes": [],
            "_model_module": "@jupyter-widgets/controls",
            "_model_module_version": "1.5.0",
            "_model_name": "HBoxModel",
            "_view_count": null,
            "_view_module": "@jupyter-widgets/controls",
            "_view_module_version": "1.5.0",
            "_view_name": "HBoxView",
            "box_style": "",
            "children": [
              "IPY_MODEL_e9d5f80debe24e4d8140042f5d88aff9",
              "IPY_MODEL_422c925526464111ab5498f43349404d",
              "IPY_MODEL_ddd88a339dff4101849581d759617d61"
            ],
            "layout": "IPY_MODEL_960a47c7c4af4ff8b864b683bf7f3080"
          }
        },
        "e9d5f80debe24e4d8140042f5d88aff9": {
          "model_module": "@jupyter-widgets/controls",
          "model_name": "HTMLModel",
          "model_module_version": "1.5.0",
          "state": {
            "_dom_classes": [],
            "_model_module": "@jupyter-widgets/controls",
            "_model_module_version": "1.5.0",
            "_model_name": "HTMLModel",
            "_view_count": null,
            "_view_module": "@jupyter-widgets/controls",
            "_view_module_version": "1.5.0",
            "_view_name": "HTMLView",
            "description": "",
            "description_tooltip": null,
            "layout": "IPY_MODEL_a4c0a57a072d4353aa96e967572ceea0",
            "placeholder": "​",
            "style": "IPY_MODEL_2d9117014c4541e9ae3f18ba851be7e0",
            "value": "merges.txt: 100%"
          }
        },
        "422c925526464111ab5498f43349404d": {
          "model_module": "@jupyter-widgets/controls",
          "model_name": "FloatProgressModel",
          "model_module_version": "1.5.0",
          "state": {
            "_dom_classes": [],
            "_model_module": "@jupyter-widgets/controls",
            "_model_module_version": "1.5.0",
            "_model_name": "FloatProgressModel",
            "_view_count": null,
            "_view_module": "@jupyter-widgets/controls",
            "_view_module_version": "1.5.0",
            "_view_name": "ProgressView",
            "bar_style": "success",
            "description": "",
            "description_tooltip": null,
            "layout": "IPY_MODEL_ad5ec3df1dc045bfa16579d704d5d489",
            "max": 456318,
            "min": 0,
            "orientation": "horizontal",
            "style": "IPY_MODEL_ae0fc2a362924594b3bcb6e22cf75c4f",
            "value": 456318
          }
        },
        "ddd88a339dff4101849581d759617d61": {
          "model_module": "@jupyter-widgets/controls",
          "model_name": "HTMLModel",
          "model_module_version": "1.5.0",
          "state": {
            "_dom_classes": [],
            "_model_module": "@jupyter-widgets/controls",
            "_model_module_version": "1.5.0",
            "_model_name": "HTMLModel",
            "_view_count": null,
            "_view_module": "@jupyter-widgets/controls",
            "_view_module_version": "1.5.0",
            "_view_name": "HTMLView",
            "description": "",
            "description_tooltip": null,
            "layout": "IPY_MODEL_66ab5e595fc349659c5dabd179a912b9",
            "placeholder": "​",
            "style": "IPY_MODEL_bf8c9989965e4097a3737b13a69ee86e",
            "value": " 456k/456k [00:00&lt;00:00, 7.86MB/s]"
          }
        },
        "960a47c7c4af4ff8b864b683bf7f3080": {
          "model_module": "@jupyter-widgets/base",
          "model_name": "LayoutModel",
          "model_module_version": "1.2.0",
          "state": {
            "_model_module": "@jupyter-widgets/base",
            "_model_module_version": "1.2.0",
            "_model_name": "LayoutModel",
            "_view_count": null,
            "_view_module": "@jupyter-widgets/base",
            "_view_module_version": "1.2.0",
            "_view_name": "LayoutView",
            "align_content": null,
            "align_items": null,
            "align_self": null,
            "border": null,
            "bottom": null,
            "display": null,
            "flex": null,
            "flex_flow": null,
            "grid_area": null,
            "grid_auto_columns": null,
            "grid_auto_flow": null,
            "grid_auto_rows": null,
            "grid_column": null,
            "grid_gap": null,
            "grid_row": null,
            "grid_template_areas": null,
            "grid_template_columns": null,
            "grid_template_rows": null,
            "height": null,
            "justify_content": null,
            "justify_items": null,
            "left": null,
            "margin": null,
            "max_height": null,
            "max_width": null,
            "min_height": null,
            "min_width": null,
            "object_fit": null,
            "object_position": null,
            "order": null,
            "overflow": null,
            "overflow_x": null,
            "overflow_y": null,
            "padding": null,
            "right": null,
            "top": null,
            "visibility": null,
            "width": null
          }
        },
        "a4c0a57a072d4353aa96e967572ceea0": {
          "model_module": "@jupyter-widgets/base",
          "model_name": "LayoutModel",
          "model_module_version": "1.2.0",
          "state": {
            "_model_module": "@jupyter-widgets/base",
            "_model_module_version": "1.2.0",
            "_model_name": "LayoutModel",
            "_view_count": null,
            "_view_module": "@jupyter-widgets/base",
            "_view_module_version": "1.2.0",
            "_view_name": "LayoutView",
            "align_content": null,
            "align_items": null,
            "align_self": null,
            "border": null,
            "bottom": null,
            "display": null,
            "flex": null,
            "flex_flow": null,
            "grid_area": null,
            "grid_auto_columns": null,
            "grid_auto_flow": null,
            "grid_auto_rows": null,
            "grid_column": null,
            "grid_gap": null,
            "grid_row": null,
            "grid_template_areas": null,
            "grid_template_columns": null,
            "grid_template_rows": null,
            "height": null,
            "justify_content": null,
            "justify_items": null,
            "left": null,
            "margin": null,
            "max_height": null,
            "max_width": null,
            "min_height": null,
            "min_width": null,
            "object_fit": null,
            "object_position": null,
            "order": null,
            "overflow": null,
            "overflow_x": null,
            "overflow_y": null,
            "padding": null,
            "right": null,
            "top": null,
            "visibility": null,
            "width": null
          }
        },
        "2d9117014c4541e9ae3f18ba851be7e0": {
          "model_module": "@jupyter-widgets/controls",
          "model_name": "DescriptionStyleModel",
          "model_module_version": "1.5.0",
          "state": {
            "_model_module": "@jupyter-widgets/controls",
            "_model_module_version": "1.5.0",
            "_model_name": "DescriptionStyleModel",
            "_view_count": null,
            "_view_module": "@jupyter-widgets/base",
            "_view_module_version": "1.2.0",
            "_view_name": "StyleView",
            "description_width": ""
          }
        },
        "ad5ec3df1dc045bfa16579d704d5d489": {
          "model_module": "@jupyter-widgets/base",
          "model_name": "LayoutModel",
          "model_module_version": "1.2.0",
          "state": {
            "_model_module": "@jupyter-widgets/base",
            "_model_module_version": "1.2.0",
            "_model_name": "LayoutModel",
            "_view_count": null,
            "_view_module": "@jupyter-widgets/base",
            "_view_module_version": "1.2.0",
            "_view_name": "LayoutView",
            "align_content": null,
            "align_items": null,
            "align_self": null,
            "border": null,
            "bottom": null,
            "display": null,
            "flex": null,
            "flex_flow": null,
            "grid_area": null,
            "grid_auto_columns": null,
            "grid_auto_flow": null,
            "grid_auto_rows": null,
            "grid_column": null,
            "grid_gap": null,
            "grid_row": null,
            "grid_template_areas": null,
            "grid_template_columns": null,
            "grid_template_rows": null,
            "height": null,
            "justify_content": null,
            "justify_items": null,
            "left": null,
            "margin": null,
            "max_height": null,
            "max_width": null,
            "min_height": null,
            "min_width": null,
            "object_fit": null,
            "object_position": null,
            "order": null,
            "overflow": null,
            "overflow_x": null,
            "overflow_y": null,
            "padding": null,
            "right": null,
            "top": null,
            "visibility": null,
            "width": null
          }
        },
        "ae0fc2a362924594b3bcb6e22cf75c4f": {
          "model_module": "@jupyter-widgets/controls",
          "model_name": "ProgressStyleModel",
          "model_module_version": "1.5.0",
          "state": {
            "_model_module": "@jupyter-widgets/controls",
            "_model_module_version": "1.5.0",
            "_model_name": "ProgressStyleModel",
            "_view_count": null,
            "_view_module": "@jupyter-widgets/base",
            "_view_module_version": "1.2.0",
            "_view_name": "StyleView",
            "bar_color": null,
            "description_width": ""
          }
        },
        "66ab5e595fc349659c5dabd179a912b9": {
          "model_module": "@jupyter-widgets/base",
          "model_name": "LayoutModel",
          "model_module_version": "1.2.0",
          "state": {
            "_model_module": "@jupyter-widgets/base",
            "_model_module_version": "1.2.0",
            "_model_name": "LayoutModel",
            "_view_count": null,
            "_view_module": "@jupyter-widgets/base",
            "_view_module_version": "1.2.0",
            "_view_name": "LayoutView",
            "align_content": null,
            "align_items": null,
            "align_self": null,
            "border": null,
            "bottom": null,
            "display": null,
            "flex": null,
            "flex_flow": null,
            "grid_area": null,
            "grid_auto_columns": null,
            "grid_auto_flow": null,
            "grid_auto_rows": null,
            "grid_column": null,
            "grid_gap": null,
            "grid_row": null,
            "grid_template_areas": null,
            "grid_template_columns": null,
            "grid_template_rows": null,
            "height": null,
            "justify_content": null,
            "justify_items": null,
            "left": null,
            "margin": null,
            "max_height": null,
            "max_width": null,
            "min_height": null,
            "min_width": null,
            "object_fit": null,
            "object_position": null,
            "order": null,
            "overflow": null,
            "overflow_x": null,
            "overflow_y": null,
            "padding": null,
            "right": null,
            "top": null,
            "visibility": null,
            "width": null
          }
        },
        "bf8c9989965e4097a3737b13a69ee86e": {
          "model_module": "@jupyter-widgets/controls",
          "model_name": "DescriptionStyleModel",
          "model_module_version": "1.5.0",
          "state": {
            "_model_module": "@jupyter-widgets/controls",
            "_model_module_version": "1.5.0",
            "_model_name": "DescriptionStyleModel",
            "_view_count": null,
            "_view_module": "@jupyter-widgets/base",
            "_view_module_version": "1.2.0",
            "_view_name": "StyleView",
            "description_width": ""
          }
        },
        "e5279e3b217d479fa8cb3bd8b66cac94": {
          "model_module": "@jupyter-widgets/controls",
          "model_name": "HBoxModel",
          "model_module_version": "1.5.0",
          "state": {
            "_dom_classes": [],
            "_model_module": "@jupyter-widgets/controls",
            "_model_module_version": "1.5.0",
            "_model_name": "HBoxModel",
            "_view_count": null,
            "_view_module": "@jupyter-widgets/controls",
            "_view_module_version": "1.5.0",
            "_view_name": "HBoxView",
            "box_style": "",
            "children": [
              "IPY_MODEL_a8d99714214b4f36aa1918da8ccea6e6",
              "IPY_MODEL_f3860a30b5634cc9a1fefacd8917c62d",
              "IPY_MODEL_4e91ae2c79224c0cbd5234a113168682"
            ],
            "layout": "IPY_MODEL_ce8fdd1a84734d449774bc13df93fa41"
          }
        },
        "a8d99714214b4f36aa1918da8ccea6e6": {
          "model_module": "@jupyter-widgets/controls",
          "model_name": "HTMLModel",
          "model_module_version": "1.5.0",
          "state": {
            "_dom_classes": [],
            "_model_module": "@jupyter-widgets/controls",
            "_model_module_version": "1.5.0",
            "_model_name": "HTMLModel",
            "_view_count": null,
            "_view_module": "@jupyter-widgets/controls",
            "_view_module_version": "1.5.0",
            "_view_name": "HTMLView",
            "description": "",
            "description_tooltip": null,
            "layout": "IPY_MODEL_3730b29e8ecf438d849c4d8d24fa88d2",
            "placeholder": "​",
            "style": "IPY_MODEL_5b482a4cf5e24a45bc7b9473252f1d20",
            "value": "tokenizer.json: 100%"
          }
        },
        "f3860a30b5634cc9a1fefacd8917c62d": {
          "model_module": "@jupyter-widgets/controls",
          "model_name": "FloatProgressModel",
          "model_module_version": "1.5.0",
          "state": {
            "_dom_classes": [],
            "_model_module": "@jupyter-widgets/controls",
            "_model_module_version": "1.5.0",
            "_model_name": "FloatProgressModel",
            "_view_count": null,
            "_view_module": "@jupyter-widgets/controls",
            "_view_module_version": "1.5.0",
            "_view_name": "ProgressView",
            "bar_style": "success",
            "description": "",
            "description_tooltip": null,
            "layout": "IPY_MODEL_5fa4498deba049a5ac50df598d275f7b",
            "max": 1355256,
            "min": 0,
            "orientation": "horizontal",
            "style": "IPY_MODEL_98b2d1c682d243758e0097d4cd32f8b9",
            "value": 1355256
          }
        },
        "4e91ae2c79224c0cbd5234a113168682": {
          "model_module": "@jupyter-widgets/controls",
          "model_name": "HTMLModel",
          "model_module_version": "1.5.0",
          "state": {
            "_dom_classes": [],
            "_model_module": "@jupyter-widgets/controls",
            "_model_module_version": "1.5.0",
            "_model_name": "HTMLModel",
            "_view_count": null,
            "_view_module": "@jupyter-widgets/controls",
            "_view_module_version": "1.5.0",
            "_view_name": "HTMLView",
            "description": "",
            "description_tooltip": null,
            "layout": "IPY_MODEL_ab52cd9f3cba4f07b52ba9e4cc253f4b",
            "placeholder": "​",
            "style": "IPY_MODEL_eb3e3475857942488701ae1fee704740",
            "value": " 1.36M/1.36M [00:00&lt;00:00, 23.3MB/s]"
          }
        },
        "ce8fdd1a84734d449774bc13df93fa41": {
          "model_module": "@jupyter-widgets/base",
          "model_name": "LayoutModel",
          "model_module_version": "1.2.0",
          "state": {
            "_model_module": "@jupyter-widgets/base",
            "_model_module_version": "1.2.0",
            "_model_name": "LayoutModel",
            "_view_count": null,
            "_view_module": "@jupyter-widgets/base",
            "_view_module_version": "1.2.0",
            "_view_name": "LayoutView",
            "align_content": null,
            "align_items": null,
            "align_self": null,
            "border": null,
            "bottom": null,
            "display": null,
            "flex": null,
            "flex_flow": null,
            "grid_area": null,
            "grid_auto_columns": null,
            "grid_auto_flow": null,
            "grid_auto_rows": null,
            "grid_column": null,
            "grid_gap": null,
            "grid_row": null,
            "grid_template_areas": null,
            "grid_template_columns": null,
            "grid_template_rows": null,
            "height": null,
            "justify_content": null,
            "justify_items": null,
            "left": null,
            "margin": null,
            "max_height": null,
            "max_width": null,
            "min_height": null,
            "min_width": null,
            "object_fit": null,
            "object_position": null,
            "order": null,
            "overflow": null,
            "overflow_x": null,
            "overflow_y": null,
            "padding": null,
            "right": null,
            "top": null,
            "visibility": null,
            "width": null
          }
        },
        "3730b29e8ecf438d849c4d8d24fa88d2": {
          "model_module": "@jupyter-widgets/base",
          "model_name": "LayoutModel",
          "model_module_version": "1.2.0",
          "state": {
            "_model_module": "@jupyter-widgets/base",
            "_model_module_version": "1.2.0",
            "_model_name": "LayoutModel",
            "_view_count": null,
            "_view_module": "@jupyter-widgets/base",
            "_view_module_version": "1.2.0",
            "_view_name": "LayoutView",
            "align_content": null,
            "align_items": null,
            "align_self": null,
            "border": null,
            "bottom": null,
            "display": null,
            "flex": null,
            "flex_flow": null,
            "grid_area": null,
            "grid_auto_columns": null,
            "grid_auto_flow": null,
            "grid_auto_rows": null,
            "grid_column": null,
            "grid_gap": null,
            "grid_row": null,
            "grid_template_areas": null,
            "grid_template_columns": null,
            "grid_template_rows": null,
            "height": null,
            "justify_content": null,
            "justify_items": null,
            "left": null,
            "margin": null,
            "max_height": null,
            "max_width": null,
            "min_height": null,
            "min_width": null,
            "object_fit": null,
            "object_position": null,
            "order": null,
            "overflow": null,
            "overflow_x": null,
            "overflow_y": null,
            "padding": null,
            "right": null,
            "top": null,
            "visibility": null,
            "width": null
          }
        },
        "5b482a4cf5e24a45bc7b9473252f1d20": {
          "model_module": "@jupyter-widgets/controls",
          "model_name": "DescriptionStyleModel",
          "model_module_version": "1.5.0",
          "state": {
            "_model_module": "@jupyter-widgets/controls",
            "_model_module_version": "1.5.0",
            "_model_name": "DescriptionStyleModel",
            "_view_count": null,
            "_view_module": "@jupyter-widgets/base",
            "_view_module_version": "1.2.0",
            "_view_name": "StyleView",
            "description_width": ""
          }
        },
        "5fa4498deba049a5ac50df598d275f7b": {
          "model_module": "@jupyter-widgets/base",
          "model_name": "LayoutModel",
          "model_module_version": "1.2.0",
          "state": {
            "_model_module": "@jupyter-widgets/base",
            "_model_module_version": "1.2.0",
            "_model_name": "LayoutModel",
            "_view_count": null,
            "_view_module": "@jupyter-widgets/base",
            "_view_module_version": "1.2.0",
            "_view_name": "LayoutView",
            "align_content": null,
            "align_items": null,
            "align_self": null,
            "border": null,
            "bottom": null,
            "display": null,
            "flex": null,
            "flex_flow": null,
            "grid_area": null,
            "grid_auto_columns": null,
            "grid_auto_flow": null,
            "grid_auto_rows": null,
            "grid_column": null,
            "grid_gap": null,
            "grid_row": null,
            "grid_template_areas": null,
            "grid_template_columns": null,
            "grid_template_rows": null,
            "height": null,
            "justify_content": null,
            "justify_items": null,
            "left": null,
            "margin": null,
            "max_height": null,
            "max_width": null,
            "min_height": null,
            "min_width": null,
            "object_fit": null,
            "object_position": null,
            "order": null,
            "overflow": null,
            "overflow_x": null,
            "overflow_y": null,
            "padding": null,
            "right": null,
            "top": null,
            "visibility": null,
            "width": null
          }
        },
        "98b2d1c682d243758e0097d4cd32f8b9": {
          "model_module": "@jupyter-widgets/controls",
          "model_name": "ProgressStyleModel",
          "model_module_version": "1.5.0",
          "state": {
            "_model_module": "@jupyter-widgets/controls",
            "_model_module_version": "1.5.0",
            "_model_name": "ProgressStyleModel",
            "_view_count": null,
            "_view_module": "@jupyter-widgets/base",
            "_view_module_version": "1.2.0",
            "_view_name": "StyleView",
            "bar_color": null,
            "description_width": ""
          }
        },
        "ab52cd9f3cba4f07b52ba9e4cc253f4b": {
          "model_module": "@jupyter-widgets/base",
          "model_name": "LayoutModel",
          "model_module_version": "1.2.0",
          "state": {
            "_model_module": "@jupyter-widgets/base",
            "_model_module_version": "1.2.0",
            "_model_name": "LayoutModel",
            "_view_count": null,
            "_view_module": "@jupyter-widgets/base",
            "_view_module_version": "1.2.0",
            "_view_name": "LayoutView",
            "align_content": null,
            "align_items": null,
            "align_self": null,
            "border": null,
            "bottom": null,
            "display": null,
            "flex": null,
            "flex_flow": null,
            "grid_area": null,
            "grid_auto_columns": null,
            "grid_auto_flow": null,
            "grid_auto_rows": null,
            "grid_column": null,
            "grid_gap": null,
            "grid_row": null,
            "grid_template_areas": null,
            "grid_template_columns": null,
            "grid_template_rows": null,
            "height": null,
            "justify_content": null,
            "justify_items": null,
            "left": null,
            "margin": null,
            "max_height": null,
            "max_width": null,
            "min_height": null,
            "min_width": null,
            "object_fit": null,
            "object_position": null,
            "order": null,
            "overflow": null,
            "overflow_x": null,
            "overflow_y": null,
            "padding": null,
            "right": null,
            "top": null,
            "visibility": null,
            "width": null
          }
        },
        "eb3e3475857942488701ae1fee704740": {
          "model_module": "@jupyter-widgets/controls",
          "model_name": "DescriptionStyleModel",
          "model_module_version": "1.5.0",
          "state": {
            "_model_module": "@jupyter-widgets/controls",
            "_model_module_version": "1.5.0",
            "_model_name": "DescriptionStyleModel",
            "_view_count": null,
            "_view_module": "@jupyter-widgets/base",
            "_view_module_version": "1.2.0",
            "_view_name": "StyleView",
            "description_width": ""
          }
        },
        "7b7494e558b441f4b7e6fc16b373778b": {
          "model_module": "@jupyter-widgets/controls",
          "model_name": "HBoxModel",
          "model_module_version": "1.5.0",
          "state": {
            "_dom_classes": [],
            "_model_module": "@jupyter-widgets/controls",
            "_model_module_version": "1.5.0",
            "_model_name": "HBoxModel",
            "_view_count": null,
            "_view_module": "@jupyter-widgets/controls",
            "_view_module_version": "1.5.0",
            "_view_name": "HBoxView",
            "box_style": "",
            "children": [
              "IPY_MODEL_65c0ec75d440453ca9c638a4a08cd992",
              "IPY_MODEL_6a378830f72d4c198962914a5be6728e",
              "IPY_MODEL_f1e07759dd64496f80829ba82011f604"
            ],
            "layout": "IPY_MODEL_60c483eb67e54f55bcfa1ae4c5765441"
          }
        },
        "65c0ec75d440453ca9c638a4a08cd992": {
          "model_module": "@jupyter-widgets/controls",
          "model_name": "HTMLModel",
          "model_module_version": "1.5.0",
          "state": {
            "_dom_classes": [],
            "_model_module": "@jupyter-widgets/controls",
            "_model_module_version": "1.5.0",
            "_model_name": "HTMLModel",
            "_view_count": null,
            "_view_module": "@jupyter-widgets/controls",
            "_view_module_version": "1.5.0",
            "_view_name": "HTMLView",
            "description": "",
            "description_tooltip": null,
            "layout": "IPY_MODEL_c9426dc801f546c99ec0c038e58bc53c",
            "placeholder": "​",
            "style": "IPY_MODEL_86cb6fc6166c41089082801b11f1ec46",
            "value": "config.json: 100%"
          }
        },
        "6a378830f72d4c198962914a5be6728e": {
          "model_module": "@jupyter-widgets/controls",
          "model_name": "FloatProgressModel",
          "model_module_version": "1.5.0",
          "state": {
            "_dom_classes": [],
            "_model_module": "@jupyter-widgets/controls",
            "_model_module_version": "1.5.0",
            "_model_name": "FloatProgressModel",
            "_view_count": null,
            "_view_module": "@jupyter-widgets/controls",
            "_view_module_version": "1.5.0",
            "_view_name": "ProgressView",
            "bar_style": "success",
            "description": "",
            "description_tooltip": null,
            "layout": "IPY_MODEL_ee21a39ab8f74b4c809916f84eb41390",
            "max": 665,
            "min": 0,
            "orientation": "horizontal",
            "style": "IPY_MODEL_7069c2dbb894436188c91453d947a881",
            "value": 665
          }
        },
        "f1e07759dd64496f80829ba82011f604": {
          "model_module": "@jupyter-widgets/controls",
          "model_name": "HTMLModel",
          "model_module_version": "1.5.0",
          "state": {
            "_dom_classes": [],
            "_model_module": "@jupyter-widgets/controls",
            "_model_module_version": "1.5.0",
            "_model_name": "HTMLModel",
            "_view_count": null,
            "_view_module": "@jupyter-widgets/controls",
            "_view_module_version": "1.5.0",
            "_view_name": "HTMLView",
            "description": "",
            "description_tooltip": null,
            "layout": "IPY_MODEL_98c787d493f041cc9f62694ffcb7ddc0",
            "placeholder": "​",
            "style": "IPY_MODEL_11cac25898e74491b9fd6ed4132283d9",
            "value": " 665/665 [00:00&lt;00:00, 13.1kB/s]"
          }
        },
        "60c483eb67e54f55bcfa1ae4c5765441": {
          "model_module": "@jupyter-widgets/base",
          "model_name": "LayoutModel",
          "model_module_version": "1.2.0",
          "state": {
            "_model_module": "@jupyter-widgets/base",
            "_model_module_version": "1.2.0",
            "_model_name": "LayoutModel",
            "_view_count": null,
            "_view_module": "@jupyter-widgets/base",
            "_view_module_version": "1.2.0",
            "_view_name": "LayoutView",
            "align_content": null,
            "align_items": null,
            "align_self": null,
            "border": null,
            "bottom": null,
            "display": null,
            "flex": null,
            "flex_flow": null,
            "grid_area": null,
            "grid_auto_columns": null,
            "grid_auto_flow": null,
            "grid_auto_rows": null,
            "grid_column": null,
            "grid_gap": null,
            "grid_row": null,
            "grid_template_areas": null,
            "grid_template_columns": null,
            "grid_template_rows": null,
            "height": null,
            "justify_content": null,
            "justify_items": null,
            "left": null,
            "margin": null,
            "max_height": null,
            "max_width": null,
            "min_height": null,
            "min_width": null,
            "object_fit": null,
            "object_position": null,
            "order": null,
            "overflow": null,
            "overflow_x": null,
            "overflow_y": null,
            "padding": null,
            "right": null,
            "top": null,
            "visibility": null,
            "width": null
          }
        },
        "c9426dc801f546c99ec0c038e58bc53c": {
          "model_module": "@jupyter-widgets/base",
          "model_name": "LayoutModel",
          "model_module_version": "1.2.0",
          "state": {
            "_model_module": "@jupyter-widgets/base",
            "_model_module_version": "1.2.0",
            "_model_name": "LayoutModel",
            "_view_count": null,
            "_view_module": "@jupyter-widgets/base",
            "_view_module_version": "1.2.0",
            "_view_name": "LayoutView",
            "align_content": null,
            "align_items": null,
            "align_self": null,
            "border": null,
            "bottom": null,
            "display": null,
            "flex": null,
            "flex_flow": null,
            "grid_area": null,
            "grid_auto_columns": null,
            "grid_auto_flow": null,
            "grid_auto_rows": null,
            "grid_column": null,
            "grid_gap": null,
            "grid_row": null,
            "grid_template_areas": null,
            "grid_template_columns": null,
            "grid_template_rows": null,
            "height": null,
            "justify_content": null,
            "justify_items": null,
            "left": null,
            "margin": null,
            "max_height": null,
            "max_width": null,
            "min_height": null,
            "min_width": null,
            "object_fit": null,
            "object_position": null,
            "order": null,
            "overflow": null,
            "overflow_x": null,
            "overflow_y": null,
            "padding": null,
            "right": null,
            "top": null,
            "visibility": null,
            "width": null
          }
        },
        "86cb6fc6166c41089082801b11f1ec46": {
          "model_module": "@jupyter-widgets/controls",
          "model_name": "DescriptionStyleModel",
          "model_module_version": "1.5.0",
          "state": {
            "_model_module": "@jupyter-widgets/controls",
            "_model_module_version": "1.5.0",
            "_model_name": "DescriptionStyleModel",
            "_view_count": null,
            "_view_module": "@jupyter-widgets/base",
            "_view_module_version": "1.2.0",
            "_view_name": "StyleView",
            "description_width": ""
          }
        },
        "ee21a39ab8f74b4c809916f84eb41390": {
          "model_module": "@jupyter-widgets/base",
          "model_name": "LayoutModel",
          "model_module_version": "1.2.0",
          "state": {
            "_model_module": "@jupyter-widgets/base",
            "_model_module_version": "1.2.0",
            "_model_name": "LayoutModel",
            "_view_count": null,
            "_view_module": "@jupyter-widgets/base",
            "_view_module_version": "1.2.0",
            "_view_name": "LayoutView",
            "align_content": null,
            "align_items": null,
            "align_self": null,
            "border": null,
            "bottom": null,
            "display": null,
            "flex": null,
            "flex_flow": null,
            "grid_area": null,
            "grid_auto_columns": null,
            "grid_auto_flow": null,
            "grid_auto_rows": null,
            "grid_column": null,
            "grid_gap": null,
            "grid_row": null,
            "grid_template_areas": null,
            "grid_template_columns": null,
            "grid_template_rows": null,
            "height": null,
            "justify_content": null,
            "justify_items": null,
            "left": null,
            "margin": null,
            "max_height": null,
            "max_width": null,
            "min_height": null,
            "min_width": null,
            "object_fit": null,
            "object_position": null,
            "order": null,
            "overflow": null,
            "overflow_x": null,
            "overflow_y": null,
            "padding": null,
            "right": null,
            "top": null,
            "visibility": null,
            "width": null
          }
        },
        "7069c2dbb894436188c91453d947a881": {
          "model_module": "@jupyter-widgets/controls",
          "model_name": "ProgressStyleModel",
          "model_module_version": "1.5.0",
          "state": {
            "_model_module": "@jupyter-widgets/controls",
            "_model_module_version": "1.5.0",
            "_model_name": "ProgressStyleModel",
            "_view_count": null,
            "_view_module": "@jupyter-widgets/base",
            "_view_module_version": "1.2.0",
            "_view_name": "StyleView",
            "bar_color": null,
            "description_width": ""
          }
        },
        "98c787d493f041cc9f62694ffcb7ddc0": {
          "model_module": "@jupyter-widgets/base",
          "model_name": "LayoutModel",
          "model_module_version": "1.2.0",
          "state": {
            "_model_module": "@jupyter-widgets/base",
            "_model_module_version": "1.2.0",
            "_model_name": "LayoutModel",
            "_view_count": null,
            "_view_module": "@jupyter-widgets/base",
            "_view_module_version": "1.2.0",
            "_view_name": "LayoutView",
            "align_content": null,
            "align_items": null,
            "align_self": null,
            "border": null,
            "bottom": null,
            "display": null,
            "flex": null,
            "flex_flow": null,
            "grid_area": null,
            "grid_auto_columns": null,
            "grid_auto_flow": null,
            "grid_auto_rows": null,
            "grid_column": null,
            "grid_gap": null,
            "grid_row": null,
            "grid_template_areas": null,
            "grid_template_columns": null,
            "grid_template_rows": null,
            "height": null,
            "justify_content": null,
            "justify_items": null,
            "left": null,
            "margin": null,
            "max_height": null,
            "max_width": null,
            "min_height": null,
            "min_width": null,
            "object_fit": null,
            "object_position": null,
            "order": null,
            "overflow": null,
            "overflow_x": null,
            "overflow_y": null,
            "padding": null,
            "right": null,
            "top": null,
            "visibility": null,
            "width": null
          }
        },
        "11cac25898e74491b9fd6ed4132283d9": {
          "model_module": "@jupyter-widgets/controls",
          "model_name": "DescriptionStyleModel",
          "model_module_version": "1.5.0",
          "state": {
            "_model_module": "@jupyter-widgets/controls",
            "_model_module_version": "1.5.0",
            "_model_name": "DescriptionStyleModel",
            "_view_count": null,
            "_view_module": "@jupyter-widgets/base",
            "_view_module_version": "1.2.0",
            "_view_name": "StyleView",
            "description_width": ""
          }
        },
        "a9d9197d6c9b4642924133253611ebb7": {
          "model_module": "@jupyter-widgets/controls",
          "model_name": "HBoxModel",
          "model_module_version": "1.5.0",
          "state": {
            "_dom_classes": [],
            "_model_module": "@jupyter-widgets/controls",
            "_model_module_version": "1.5.0",
            "_model_name": "HBoxModel",
            "_view_count": null,
            "_view_module": "@jupyter-widgets/controls",
            "_view_module_version": "1.5.0",
            "_view_name": "HBoxView",
            "box_style": "",
            "children": [
              "IPY_MODEL_9396cc3210af4bae8f5efce85d432bf3",
              "IPY_MODEL_cff21744b28a4265ac81f3638cb3b1f0",
              "IPY_MODEL_21b986bdb5bb477c946b2d251f193f60"
            ],
            "layout": "IPY_MODEL_fd380174b4914b67bd02dcc3c94f0691"
          }
        },
        "9396cc3210af4bae8f5efce85d432bf3": {
          "model_module": "@jupyter-widgets/controls",
          "model_name": "HTMLModel",
          "model_module_version": "1.5.0",
          "state": {
            "_dom_classes": [],
            "_model_module": "@jupyter-widgets/controls",
            "_model_module_version": "1.5.0",
            "_model_name": "HTMLModel",
            "_view_count": null,
            "_view_module": "@jupyter-widgets/controls",
            "_view_module_version": "1.5.0",
            "_view_name": "HTMLView",
            "description": "",
            "description_tooltip": null,
            "layout": "IPY_MODEL_34dee9d9c39841548b7bf3560dc37579",
            "placeholder": "​",
            "style": "IPY_MODEL_4711a85651bf4588b4fca93f483a7130",
            "value": "model.safetensors: 100%"
          }
        },
        "cff21744b28a4265ac81f3638cb3b1f0": {
          "model_module": "@jupyter-widgets/controls",
          "model_name": "FloatProgressModel",
          "model_module_version": "1.5.0",
          "state": {
            "_dom_classes": [],
            "_model_module": "@jupyter-widgets/controls",
            "_model_module_version": "1.5.0",
            "_model_name": "FloatProgressModel",
            "_view_count": null,
            "_view_module": "@jupyter-widgets/controls",
            "_view_module_version": "1.5.0",
            "_view_name": "ProgressView",
            "bar_style": "success",
            "description": "",
            "description_tooltip": null,
            "layout": "IPY_MODEL_94b1145219624bb5bce1df5cc152cb49",
            "max": 548105171,
            "min": 0,
            "orientation": "horizontal",
            "style": "IPY_MODEL_d55dbd0d6e9344bfa157adbab7d2ddca",
            "value": 548105171
          }
        },
        "21b986bdb5bb477c946b2d251f193f60": {
          "model_module": "@jupyter-widgets/controls",
          "model_name": "HTMLModel",
          "model_module_version": "1.5.0",
          "state": {
            "_dom_classes": [],
            "_model_module": "@jupyter-widgets/controls",
            "_model_module_version": "1.5.0",
            "_model_name": "HTMLModel",
            "_view_count": null,
            "_view_module": "@jupyter-widgets/controls",
            "_view_module_version": "1.5.0",
            "_view_name": "HTMLView",
            "description": "",
            "description_tooltip": null,
            "layout": "IPY_MODEL_88b2aca719fc42d484fe22f15cd1fb14",
            "placeholder": "​",
            "style": "IPY_MODEL_018833911b5541d4aaea2d73bc980279",
            "value": " 548M/548M [00:03&lt;00:00, 142MB/s]"
          }
        },
        "fd380174b4914b67bd02dcc3c94f0691": {
          "model_module": "@jupyter-widgets/base",
          "model_name": "LayoutModel",
          "model_module_version": "1.2.0",
          "state": {
            "_model_module": "@jupyter-widgets/base",
            "_model_module_version": "1.2.0",
            "_model_name": "LayoutModel",
            "_view_count": null,
            "_view_module": "@jupyter-widgets/base",
            "_view_module_version": "1.2.0",
            "_view_name": "LayoutView",
            "align_content": null,
            "align_items": null,
            "align_self": null,
            "border": null,
            "bottom": null,
            "display": null,
            "flex": null,
            "flex_flow": null,
            "grid_area": null,
            "grid_auto_columns": null,
            "grid_auto_flow": null,
            "grid_auto_rows": null,
            "grid_column": null,
            "grid_gap": null,
            "grid_row": null,
            "grid_template_areas": null,
            "grid_template_columns": null,
            "grid_template_rows": null,
            "height": null,
            "justify_content": null,
            "justify_items": null,
            "left": null,
            "margin": null,
            "max_height": null,
            "max_width": null,
            "min_height": null,
            "min_width": null,
            "object_fit": null,
            "object_position": null,
            "order": null,
            "overflow": null,
            "overflow_x": null,
            "overflow_y": null,
            "padding": null,
            "right": null,
            "top": null,
            "visibility": null,
            "width": null
          }
        },
        "34dee9d9c39841548b7bf3560dc37579": {
          "model_module": "@jupyter-widgets/base",
          "model_name": "LayoutModel",
          "model_module_version": "1.2.0",
          "state": {
            "_model_module": "@jupyter-widgets/base",
            "_model_module_version": "1.2.0",
            "_model_name": "LayoutModel",
            "_view_count": null,
            "_view_module": "@jupyter-widgets/base",
            "_view_module_version": "1.2.0",
            "_view_name": "LayoutView",
            "align_content": null,
            "align_items": null,
            "align_self": null,
            "border": null,
            "bottom": null,
            "display": null,
            "flex": null,
            "flex_flow": null,
            "grid_area": null,
            "grid_auto_columns": null,
            "grid_auto_flow": null,
            "grid_auto_rows": null,
            "grid_column": null,
            "grid_gap": null,
            "grid_row": null,
            "grid_template_areas": null,
            "grid_template_columns": null,
            "grid_template_rows": null,
            "height": null,
            "justify_content": null,
            "justify_items": null,
            "left": null,
            "margin": null,
            "max_height": null,
            "max_width": null,
            "min_height": null,
            "min_width": null,
            "object_fit": null,
            "object_position": null,
            "order": null,
            "overflow": null,
            "overflow_x": null,
            "overflow_y": null,
            "padding": null,
            "right": null,
            "top": null,
            "visibility": null,
            "width": null
          }
        },
        "4711a85651bf4588b4fca93f483a7130": {
          "model_module": "@jupyter-widgets/controls",
          "model_name": "DescriptionStyleModel",
          "model_module_version": "1.5.0",
          "state": {
            "_model_module": "@jupyter-widgets/controls",
            "_model_module_version": "1.5.0",
            "_model_name": "DescriptionStyleModel",
            "_view_count": null,
            "_view_module": "@jupyter-widgets/base",
            "_view_module_version": "1.2.0",
            "_view_name": "StyleView",
            "description_width": ""
          }
        },
        "94b1145219624bb5bce1df5cc152cb49": {
          "model_module": "@jupyter-widgets/base",
          "model_name": "LayoutModel",
          "model_module_version": "1.2.0",
          "state": {
            "_model_module": "@jupyter-widgets/base",
            "_model_module_version": "1.2.0",
            "_model_name": "LayoutModel",
            "_view_count": null,
            "_view_module": "@jupyter-widgets/base",
            "_view_module_version": "1.2.0",
            "_view_name": "LayoutView",
            "align_content": null,
            "align_items": null,
            "align_self": null,
            "border": null,
            "bottom": null,
            "display": null,
            "flex": null,
            "flex_flow": null,
            "grid_area": null,
            "grid_auto_columns": null,
            "grid_auto_flow": null,
            "grid_auto_rows": null,
            "grid_column": null,
            "grid_gap": null,
            "grid_row": null,
            "grid_template_areas": null,
            "grid_template_columns": null,
            "grid_template_rows": null,
            "height": null,
            "justify_content": null,
            "justify_items": null,
            "left": null,
            "margin": null,
            "max_height": null,
            "max_width": null,
            "min_height": null,
            "min_width": null,
            "object_fit": null,
            "object_position": null,
            "order": null,
            "overflow": null,
            "overflow_x": null,
            "overflow_y": null,
            "padding": null,
            "right": null,
            "top": null,
            "visibility": null,
            "width": null
          }
        },
        "d55dbd0d6e9344bfa157adbab7d2ddca": {
          "model_module": "@jupyter-widgets/controls",
          "model_name": "ProgressStyleModel",
          "model_module_version": "1.5.0",
          "state": {
            "_model_module": "@jupyter-widgets/controls",
            "_model_module_version": "1.5.0",
            "_model_name": "ProgressStyleModel",
            "_view_count": null,
            "_view_module": "@jupyter-widgets/base",
            "_view_module_version": "1.2.0",
            "_view_name": "StyleView",
            "bar_color": null,
            "description_width": ""
          }
        },
        "88b2aca719fc42d484fe22f15cd1fb14": {
          "model_module": "@jupyter-widgets/base",
          "model_name": "LayoutModel",
          "model_module_version": "1.2.0",
          "state": {
            "_model_module": "@jupyter-widgets/base",
            "_model_module_version": "1.2.0",
            "_model_name": "LayoutModel",
            "_view_count": null,
            "_view_module": "@jupyter-widgets/base",
            "_view_module_version": "1.2.0",
            "_view_name": "LayoutView",
            "align_content": null,
            "align_items": null,
            "align_self": null,
            "border": null,
            "bottom": null,
            "display": null,
            "flex": null,
            "flex_flow": null,
            "grid_area": null,
            "grid_auto_columns": null,
            "grid_auto_flow": null,
            "grid_auto_rows": null,
            "grid_column": null,
            "grid_gap": null,
            "grid_row": null,
            "grid_template_areas": null,
            "grid_template_columns": null,
            "grid_template_rows": null,
            "height": null,
            "justify_content": null,
            "justify_items": null,
            "left": null,
            "margin": null,
            "max_height": null,
            "max_width": null,
            "min_height": null,
            "min_width": null,
            "object_fit": null,
            "object_position": null,
            "order": null,
            "overflow": null,
            "overflow_x": null,
            "overflow_y": null,
            "padding": null,
            "right": null,
            "top": null,
            "visibility": null,
            "width": null
          }
        },
        "018833911b5541d4aaea2d73bc980279": {
          "model_module": "@jupyter-widgets/controls",
          "model_name": "DescriptionStyleModel",
          "model_module_version": "1.5.0",
          "state": {
            "_model_module": "@jupyter-widgets/controls",
            "_model_module_version": "1.5.0",
            "_model_name": "DescriptionStyleModel",
            "_view_count": null,
            "_view_module": "@jupyter-widgets/base",
            "_view_module_version": "1.2.0",
            "_view_name": "StyleView",
            "description_width": ""
          }
        }
      }
    }
  },
  "cells": [
    {
      "cell_type": "markdown",
      "source": [
        "# ML from Scratch: From attention to transformers\n",
        "\n",
        "* Author: Binxu Wang (binxu_wang@hms.harvard.edu)\n",
        "\n",
        "* Date: Apr.17th, 2023\n"
      ],
      "metadata": {
        "id": "yvBTTFubgJ0i"
      }
    },
    {
      "cell_type": "markdown",
      "source": [
        "In this first tutorial, we want to dive into the details of attention mechanism. If you are interested, you'd be able to implement self-attention layer and build your own transformer model from scratch.\n",
        "\n",
        "For most established library e.g. `torch`, the code is a bit harder to read, due to efficiency optimization and feature flexibility (numerous `if` `else` path). So here we will develop **a more readable but equivalent model**, and validate it against the offcial implementation."
      ],
      "metadata": {
        "id": "LEyAG_Chgq4B"
      }
    },
    {
      "cell_type": "markdown",
      "source": [
        "### Imports"
      ],
      "metadata": {
        "id": "1FvTRFr_M-Rx"
      }
    },
    {
      "cell_type": "code",
      "execution_count": 1,
      "metadata": {
        "id": "VCs18-JIMx2A"
      },
      "outputs": [],
      "source": [
        "import torch\n",
        "import torch.nn as nn\n",
        "import torch.nn.functional as F\n",
        "import numpy as np\n",
        "import math\n",
        "import matplotlib.pyplot as plt"
      ]
    },
    {
      "cell_type": "code",
      "source": [
        "seed = 42\n",
        "np.random.seed(seed)\n",
        "torch.manual_seed(seed)\n",
        "torch.cuda.manual_seed(seed)"
      ],
      "metadata": {
        "id": "x1754xrzOU4B"
      },
      "execution_count": 2,
      "outputs": []
    },
    {
      "cell_type": "markdown",
      "source": [
        "## Self-Attention Mechanism: Single Head"
      ],
      "metadata": {
        "id": "YyAokROySZWa"
      }
    },
    {
      "cell_type": "markdown",
      "source": [
        "![](https://raw.githubusercontent.com/Animadversio/TransformerFromScratch/main/media/AttentionSchematics_white-01.png)"
      ],
      "metadata": {
        "id": "2ioS3Nrun62q"
      }
    },
    {
      "cell_type": "code",
      "source": [
        "embdim = 256\n",
        "headdim = 64\n",
        "tokens = torch.randn(1, 5, embdim) # batch, tokens, embedding\n",
        "Wq = torch.randn(embdim, headdim) / math.sqrt(embdim)\n",
        "Wk = torch.randn(embdim, headdim) / math.sqrt(embdim)\n",
        "Wv = torch.randn(embdim, embdim) / math.sqrt(embdim)"
      ],
      "metadata": {
        "id": "EOsGVI0tNH9m"
      },
      "execution_count": 3,
      "outputs": []
    },
    {
      "cell_type": "markdown",
      "source": [
        "Fill in the score matrix computation"
      ],
      "metadata": {
        "id": "Q3GOB0ld4TNN"
      }
    },
    {
      "cell_type": "code",
      "source": [
        "qis = torch.einsum(\"BSE,EH->BSH\", tokens, Wq) # batch x seqlen x headdim\n",
        "kis = torch.einsum(\"BTE,EH->BTH\", tokens, Wk) # batch x seqlen x headdim\n",
        "vis = torch.einsum(\"BTE,EF->BTF\", tokens, Wv) # batch x seqlen x embeddim\n",
        "# Your code here\n",
        "scoremat = torch.einsum(\"BSH,BTH->BST\",qis,kis) # output: batch x seqlen (Query) x seqlen (Key)\n",
        "####\n",
        "attmat = F.softmax(scoremat / math.sqrt(headdim), dim=2)"
      ],
      "metadata": {
        "id": "sGz9Zeh-Orkw"
      },
      "execution_count": 4,
      "outputs": []
    },
    {
      "cell_type": "markdown",
      "source": [
        "Some checks to make sure the score correspond to the product of the right pair."
      ],
      "metadata": {
        "id": "l4csHSFhUKCy"
      }
    },
    {
      "cell_type": "code",
      "source": [
        "assert(torch.isclose(scoremat[0,1,2], qis[0,1,:]@kis[0,2,:]))\n",
        "assert(torch.isclose(scoremat[0,3,4], qis[0,3,:]@kis[0,4,:]))\n",
        "assert(torch.isclose(scoremat[0,2,2], qis[0,2,:]@kis[0,2,:]))"
      ],
      "metadata": {
        "id": "myg-C-doPKF6"
      },
      "execution_count": 5,
      "outputs": []
    },
    {
      "cell_type": "code",
      "source": [
        "zis = torch.einsum(\"BST,BTF->BSF\", attmat, vis)"
      ],
      "metadata": {
        "id": "usrpNpDSQZz5"
      },
      "execution_count": 6,
      "outputs": []
    },
    {
      "cell_type": "markdown",
      "source": [
        "In pytorch, these operations are packed int the function `F.scaled_dot_product_attention`. So let's test our implementation of the single head attention against it."
      ],
      "metadata": {
        "id": "GxiBZ97ZQt1D"
      }
    },
    {
      "cell_type": "code",
      "source": [
        "attn_torch = F.scaled_dot_product_attention(qis,kis,vis)\n",
        "assert(torch.allclose(attn_torch, zis, atol=1E-6,rtol=1E-6))"
      ],
      "metadata": {
        "id": "K4FvFf8vPg_0"
      },
      "execution_count": 7,
      "outputs": []
    },
    {
      "cell_type": "markdown",
      "source": [
        "## Multi-head attention"
      ],
      "metadata": {
        "id": "cdRNYM5FNIOC"
      }
    },
    {
      "cell_type": "code",
      "source": [
        "embdim = 768\n",
        "headcnt = 12\n",
        "headdim = embdim // headcnt\n",
        "assert headdim * headcnt == embdim\n",
        "tokens = torch.randn(1, 5, embdim) # batch, tokens, embedding\n",
        "Wq = torch.randn(embdim, headcnt * headdim) / math.sqrt(embdim) # heads packed in a single dim\n",
        "Wk = torch.randn(embdim, headcnt * headdim) / math.sqrt(embdim) # heads packed in a single dim\n",
        "Wv = torch.randn(embdim, headcnt * headdim) / math.sqrt(embdim) # heads packed in a single dim"
      ],
      "metadata": {
        "id": "ripFxfj-hjuB"
      },
      "execution_count": 8,
      "outputs": []
    },
    {
      "cell_type": "code",
      "source": [
        "batch, token_num, _ = tokens.shape\n",
        "qis = torch.einsum(\"BSE,EH->BSH\", tokens, Wq)\n",
        "kis = torch.einsum(\"BTE,EH->BTH\", tokens, Wk)\n",
        "vis = torch.einsum(\"BTE,EH->BTH\", tokens, Wv)\n",
        "# split the single hidden dim into the heads\n",
        "qis_mh = qis.view(batch, token_num, headcnt, headdim)\n",
        "kis_mh = kis.view(batch, token_num, headcnt, headdim)\n",
        "vis_mh = vis.view(batch, token_num, headcnt, headdim)"
      ],
      "metadata": {
        "id": "qN4P4TBZiRHx"
      },
      "execution_count": 9,
      "outputs": []
    },
    {
      "cell_type": "markdown",
      "source": [
        "Now your challenge is to compute multihead attention using `einsum`"
      ],
      "metadata": {
        "id": "HXgazGbY4vf7"
      }
    },
    {
      "cell_type": "code",
      "source": [
        "# YOUR CODE HERE\n",
        "scoremat_mh = torch.einsum(\"BSHD,BTHD->BHST\",qis_mh,kis_mh)  # Output: batch x headcnt x seqlen (query) x seqlen (key)\n",
        "# End\n",
        "attmat_mh = F.softmax(scoremat_mh / math.sqrt(headdim), dim=-1)\n",
        "zis_mh = torch.einsum(\"BCST,BTCH->BSCH\", attmat_mh, vis_mh)  # batch x seqlen (query) x headcnt x headdim\n",
        "zis = zis_mh.reshape(batch, token_num, headcnt * headdim)"
      ],
      "metadata": {
        "id": "vVGExSq3i-rh"
      },
      "execution_count": 10,
      "outputs": []
    },
    {
      "cell_type": "markdown",
      "source": [
        "Let's validate the tensor multiplication is correct"
      ],
      "metadata": {
        "id": "kLJo-3CL3BWQ"
      }
    },
    {
      "cell_type": "code",
      "source": [
        "# raw attention score of the 1st attention head\n",
        "assert (torch.allclose(scoremat_mh[0, 1], qis_mh[0,:,1] @ kis_mh[0,:,1,:].T))"
      ],
      "metadata": {
        "id": "5yCZ0BI6zLRH"
      },
      "execution_count": 11,
      "outputs": []
    },
    {
      "cell_type": "code",
      "source": [
        "print(tokens.shape)\n",
        "print(qis_mh.shape)\n",
        "print(kis_mh.shape)\n",
        "print(vis_mh.shape)\n",
        "print(attmat_mh.shape)\n",
        "print(zis_mh.shape)\n",
        "print(zis.shape)"
      ],
      "metadata": {
        "colab": {
          "base_uri": "https://localhost:8080/"
        },
        "id": "oy5EBnnetHoU",
        "outputId": "a0951f16-f16e-42f5-b6f3-2134d9cc5130"
      },
      "execution_count": 12,
      "outputs": [
        {
          "output_type": "stream",
          "name": "stdout",
          "text": [
            "torch.Size([1, 5, 768])\n",
            "torch.Size([1, 5, 12, 64])\n",
            "torch.Size([1, 5, 12, 64])\n",
            "torch.Size([1, 5, 12, 64])\n",
            "torch.Size([1, 12, 5, 5])\n",
            "torch.Size([1, 5, 12, 64])\n",
            "torch.Size([1, 5, 768])\n"
          ]
        }
      ]
    },
    {
      "cell_type": "markdown",
      "source": [
        "In `torch` this operation is packed in `nn.MultiheadAttention`, including the input projection, attention and out projection. So, note the input the the `mha.forward` function are the *token_embeddings* not the Q,K,Vs as we put it in `F.scaled_dot_product_attention`"
      ],
      "metadata": {
        "id": "gr5UOaYo1Rtf"
      }
    },
    {
      "cell_type": "code",
      "source": [
        "mha = nn.MultiheadAttention(embdim, headcnt, batch_first=True,)\n",
        "print(mha.in_proj_weight.shape) # 3 * embdim x embdim\n",
        "mha.in_proj_weight.data = torch.cat([Wq, Wk, Wv], dim=1).T"
      ],
      "metadata": {
        "id": "apQhwC6nU5Uy",
        "colab": {
          "base_uri": "https://localhost:8080/"
        },
        "outputId": "77b76b4f-4568-47a5-b9a7-29bf7da5f6fa"
      },
      "execution_count": 13,
      "outputs": [
        {
          "output_type": "stream",
          "name": "stdout",
          "text": [
            "torch.Size([2304, 768])\n"
          ]
        }
      ]
    },
    {
      "cell_type": "code",
      "source": [
        "attn_out, attn_weights = mha(tokens, tokens, tokens, average_attn_weights=False,)\n",
        "assert torch.allclose(attmat_mh, attn_weights, atol=1e-6, rtol=1e-6)"
      ],
      "metadata": {
        "id": "YQcH-49V0Pyw"
      },
      "execution_count": 14,
      "outputs": []
    },
    {
      "cell_type": "markdown",
      "source": [
        "In `nn.MultiheadAttention` , there is a output projection `out_proj`, projecting the values. It is a linear layer with bias. We can validate that going through this projection our outputs `zis` is the same as the output of `mha`"
      ],
      "metadata": {
        "id": "ukm63wFj0WC3"
      }
    },
    {
      "cell_type": "code",
      "source": [
        "print(mha.out_proj)\n",
        "assert torch.allclose(attn_out, mha.out_proj(zis), atol=1e-6, rtol=1e-6)"
      ],
      "metadata": {
        "colab": {
          "base_uri": "https://localhost:8080/"
        },
        "id": "ci12a8np0VQH",
        "outputId": "222847e3-ebc0-40a3-e60b-290f49de34ee"
      },
      "execution_count": 15,
      "outputs": [
        {
          "output_type": "stream",
          "name": "stdout",
          "text": [
            "NonDynamicallyQuantizableLinear(in_features=768, out_features=768, bias=True)\n"
          ]
        }
      ]
    },
    {
      "cell_type": "markdown",
      "source": [
        "### Causal attention mask\n",
        "\n",
        "For models such as GPT, each token can only attend to tokens before it, thus the attention score needs to be modified before entering softmax.\n",
        "\n",
        "The common way of masking is to add a large negative number to the locations that you'd not want the model to attend to."
      ],
      "metadata": {
        "id": "Da0lDydB3zoP"
      }
    },
    {
      "cell_type": "code",
      "source": [
        "attn_mask = torch.ones(token_num,token_num,)\n",
        "attn_mask = -1E4 * torch.triu(attn_mask,1)\n",
        "attn_mask"
      ],
      "metadata": {
        "id": "8s_xVQiN4TNf",
        "colab": {
          "base_uri": "https://localhost:8080/"
        },
        "outputId": "4dfbddc6-f5a0-45e2-a709-c61c7a7899c6"
      },
      "execution_count": 16,
      "outputs": [
        {
          "output_type": "execute_result",
          "data": {
            "text/plain": [
              "tensor([[    -0., -10000., -10000., -10000., -10000.],\n",
              "        [    -0.,     -0., -10000., -10000., -10000.],\n",
              "        [    -0.,     -0.,     -0., -10000., -10000.],\n",
              "        [    -0.,     -0.,     -0.,     -0., -10000.],\n",
              "        [    -0.,     -0.,     -0.,     -0.,     -0.]])"
            ]
          },
          "metadata": {},
          "execution_count": 16
        }
      ]
    },
    {
      "cell_type": "code",
      "source": [
        "scoremat_mh_msk = torch.einsum(\"BSCH,BTCH->BCST\", qis_mh, kis_mh)  # batch x headcnt x seqlen (query) x seqlen (key)\n",
        "scoremat_mh_msk += attn_mask  # add the attn mask to the scores before SoftMax normalization\n",
        "attmat_mh_msk = F.softmax(scoremat_mh_msk / math.sqrt(headdim), dim=-1)\n",
        "zis_mh_msk = torch.einsum(\"BCST,BTCH->BSCH\", attmat_mh_msk, vis_mh)  # batch x seqlen (query) x headcnt x headdim\n",
        "# zis_mh = torch.einsum(\"BSCT,BTCH->BSCH\", attmat_mh, vis_mh)\n",
        "zis_msk = zis_mh_msk.reshape(batch, token_num, headcnt * headdim)"
      ],
      "metadata": {
        "id": "IXbr6nVQ4L2e"
      },
      "execution_count": 17,
      "outputs": []
    },
    {
      "cell_type": "markdown",
      "source": [
        "**Note** `is_causal` parameter should work and create a causal mask automatically. But in a recent pytorch bug, it doesn't work. So beware~\n",
        "https://github.com/pytorch/pytorch/issues/99282"
      ],
      "metadata": {
        "id": "Es5ABKzQ5phg"
      }
    },
    {
      "cell_type": "code",
      "source": [
        "attn_out_causal, attn_weights_causal = mha(tokens, tokens, tokens, average_attn_weights=False, attn_mask=attn_mask)"
      ],
      "metadata": {
        "id": "ySFCHtmE46QA"
      },
      "execution_count": 18,
      "outputs": []
    },
    {
      "cell_type": "code",
      "source": [
        "assert torch.allclose(attn_weights_causal, attmat_mh_msk, atol=1e-6, rtol=1e-6)\n",
        "assert torch.allclose(attn_out_causal, mha.out_proj(zis_msk), atol=1e-6, rtol=1e-6)"
      ],
      "metadata": {
        "id": "Fcmb5yX16buH"
      },
      "execution_count": 19,
      "outputs": []
    },
    {
      "cell_type": "code",
      "source": [
        "plt.figure()\n",
        "for head in range(headcnt):\n",
        "    plt.subplot(3, 4, head + 1)\n",
        "    plt.imshow(attn_weights_causal[0, head].detach().numpy())\n",
        "    plt.title(f\"head {head}\")\n",
        "    plt.axis(\"off\")\n",
        "plt.show()"
      ],
      "metadata": {
        "id": "kHUZgGm74_qu",
        "colab": {
          "base_uri": "https://localhost:8080/",
          "height": 428
        },
        "outputId": "55fe7832-220f-49dc-ad25-6525915e1008"
      },
      "execution_count": 20,
      "outputs": [
        {
          "output_type": "display_data",
          "data": {
            "text/plain": [
              "<Figure size 640x480 with 12 Axes>"
            ],
            "image/png": "[encoded data removed]"
          },
          "metadata": {}
        }
      ]
    },
    {
      "cell_type": "markdown",
      "source": [
        "## Transformer Block"
      ],
      "metadata": {
        "id": "3JuaP78yWMva"
      }
    },
    {
      "cell_type": "markdown",
      "source": [
        "Having gaining some intuition about attention layer, let's build it into a transformer. An vanilla transformer block usually looks like this. Note there are slight difference between the transformer blocks in GPT2, BERT and other models, but they generally has the following components\n",
        "\n",
        "* Transformer Block\n",
        "  * Layernorm\n",
        "  * Skip connections\n",
        "  * Multi-head attention\n",
        "  * MLP, Feedforward net\n"
      ],
      "metadata": {
        "id": "BqscmIG11NDn"
      }
    },
    {
      "cell_type": "code",
      "source": [
        "class TransformerBlock_simple(nn.Module):\n",
        "\n",
        "    def __init__(self, embdim, headcnt, *args, dropout=0.0, **kwargs) -> None:\n",
        "        super().__init__(*args, **kwargs)\n",
        "        self.ln1 = nn.LayerNorm(embdim)\n",
        "        self.ln2 = nn.LayerNorm(embdim)\n",
        "        self.attn = nn.MultiheadAttention(embdim, headcnt, batch_first=True,)\n",
        "        self.ffn = nn.Sequential(\n",
        "            nn.Linear(embdim, 4 * embdim),\n",
        "            nn.GELU(),\n",
        "            nn.Linear(4 * embdim, embdim),\n",
        "            nn.Dropout(dropout),\n",
        "        )\n",
        "\n",
        "    def forward(self, x, is_causal=True):\n",
        "        batch, token_num, hidden_dim = x.shape\n",
        "        if is_causal:\n",
        "            attn_mask = torch.ones(token_num, token_num,)\n",
        "            attn_mask = -1E4 * torch.triu(attn_mask,1)\n",
        "        else:\n",
        "            attn_mask = None\n",
        "\n",
        "        residue = x\n",
        "        x = self.ln1(x)\n",
        "        attn_output, attn_weights = self.attn(x, x, x, attn_mask=attn_mask)  # first output is the output latent states\n",
        "        x = residue + attn_output\n",
        "\n",
        "        residue = x\n",
        "        x = self.ln2(x)\n",
        "        ffn_output = self.ffn(x)\n",
        "        output = residue + ffn_output\n",
        "        return output"
      ],
      "metadata": {
        "id": "zZBi1l6-WMTy"
      },
      "execution_count": 21,
      "outputs": []
    },
    {
      "cell_type": "markdown",
      "source": [
        "Compare the implmentation with the schematics and see if it makes more sense!\n",
        "\n",
        "\n",
        "**BERT**\n",
        "\n",
        "![BERT (Transformer encoder)](https://iq.opengenus.org/content/images/2020/06/encoder-1.png)\n",
        "\n",
        "**GPT2**\n",
        "\n",
        "![](https://miro.medium.com/v2/1*jbcwhhB8PEpJRk781rML_g.png)"
      ],
      "metadata": {
        "id": "xbR05_AZUl78"
      }
    },
    {
      "cell_type": "markdown",
      "source": [
        "## Example: GPT2 from `Transformers` library"
      ],
      "metadata": {
        "id": "IOTZcdaQVASY"
      }
    },
    {
      "cell_type": "code",
      "source": [
        "!pip install transformers[torch]"
      ],
      "metadata": {
        "colab": {
          "base_uri": "https://localhost:8080/"
        },
        "id": "ih7EtU3GVCnt",
        "outputId": "8db9e672-eee8-43f0-b207-0fb6e12c0b17"
      },
      "execution_count": 22,
      "outputs": [
        {
          "output_type": "stream",
          "name": "stdout",
          "text": [
            "Requirement already satisfied: transformers[torch] in /usr/local/lib/python3.10/dist-packages (4.41.2)\n",
            "Requirement already satisfied: filelock in /usr/local/lib/python3.10/dist-packages (from transformers[torch]) (3.15.4)\n",
            "Requirement already satisfied: huggingface-hub<1.0,>=0.23.0 in /usr/local/lib/python3.10/dist-packages (from transformers[torch]) (0.23.4)\n",
            "Requirement already satisfied: numpy>=1.17 in /usr/local/lib/python3.10/dist-packages (from transformers[torch]) (1.25.2)\n",
            "Requirement already satisfied: packaging>=20.0 in /usr/local/lib/python3.10/dist-packages (from transformers[torch]) (24.1)\n",
            "Requirement already satisfied: pyyaml>=5.1 in /usr/local/lib/python3.10/dist-packages (from transformers[torch]) (6.0.1)\n",
            "Requirement already satisfied: regex!=2019.12.17 in /usr/local/lib/python3.10/dist-packages (from transformers[torch]) (2024.5.15)\n",
            "Requirement already satisfied: requests in /usr/local/lib/python3.10/dist-packages (from transformers[torch]) (2.31.0)\n",
            "Requirement already satisfied: tokenizers<0.20,>=0.19 in /usr/local/lib/python3.10/dist-packages (from transformers[torch]) (0.19.1)\n",
            "Requirement already satisfied: safetensors>=0.4.1 in /usr/local/lib/python3.10/dist-packages (from transformers[torch]) (0.4.3)\n",
            "Requirement already satisfied: tqdm>=4.27 in /usr/local/lib/python3.10/dist-packages (from transformers[torch]) (4.66.4)\n",
            "Requirement already satisfied: torch in /usr/local/lib/python3.10/dist-packages (from transformers[torch]) (2.3.0+cu121)\n",
            "Collecting accelerate>=0.21.0 (from transformers[torch])\n",
            "  Downloading accelerate-0.32.1-py3-none-any.whl (314 kB)\n",
            "\u001b[2K     \u001b[90m━━━━━━━━━━━━━━━━━━━━━━━━━━━━━━━━━━━━━━━━\u001b[0m \u001b[32m314.1/314.1 kB\u001b[0m \u001b[31m3.1 MB/s\u001b[0m eta \u001b[36m0:00:00\u001b[0m\n",
            "\u001b[?25hRequirement already satisfied: psutil in /usr/local/lib/python3.10/dist-packages (from accelerate>=0.21.0->transformers[torch]) (5.9.5)\n",
            "Requirement already satisfied: fsspec>=2023.5.0 in /usr/local/lib/python3.10/dist-packages (from huggingface-hub<1.0,>=0.23.0->transformers[torch]) (2023.6.0)\n",
            "Requirement already satisfied: typing-extensions>=3.7.4.3 in /usr/local/lib/python3.10/dist-packages (from huggingface-hub<1.0,>=0.23.0->transformers[torch]) (4.12.2)\n",
            "Requirement already satisfied: sympy in /usr/local/lib/python3.10/dist-packages (from torch->transformers[torch]) (1.12.1)\n",
            "Requirement already satisfied: networkx in /usr/local/lib/python3.10/dist-packages (from torch->transformers[torch]) (3.3)\n",
            "Requirement already satisfied: jinja2 in /usr/local/lib/python3.10/dist-packages (from torch->transformers[torch]) (3.1.4)\n",
            "Collecting nvidia-cuda-nvrtc-cu12==12.1.105 (from torch->transformers[torch])\n",
            "  Using cached nvidia_cuda_nvrtc_cu12-12.1.105-py3-none-manylinux1_x86_64.whl (23.7 MB)\n",
            "Collecting nvidia-cuda-runtime-cu12==12.1.105 (from torch->transformers[torch])\n",
            "  Using cached nvidia_cuda_runtime_cu12-12.1.105-py3-none-manylinux1_x86_64.whl (823 kB)\n",
            "Collecting nvidia-cuda-cupti-cu12==12.1.105 (from torch->transformers[torch])\n",
            "  Using cached nvidia_cuda_cupti_cu12-12.1.105-py3-none-manylinux1_x86_64.whl (14.1 MB)\n",
            "Collecting nvidia-cudnn-cu12==8.9.2.26 (from torch->transformers[torch])\n",
            "  Using cached nvidia_cudnn_cu12-8.9.2.26-py3-none-manylinux1_x86_64.whl (731.7 MB)\n",
            "Collecting nvidia-cublas-cu12==12.1.3.1 (from torch->transformers[torch])\n",
            "  Using cached nvidia_cublas_cu12-12.1.3.1-py3-none-manylinux1_x86_64.whl (410.6 MB)\n",
            "Collecting nvidia-cufft-cu12==11.0.2.54 (from torch->transformers[torch])\n",
            "  Using cached nvidia_cufft_cu12-11.0.2.54-py3-none-manylinux1_x86_64.whl (121.6 MB)\n",
            "Collecting nvidia-curand-cu12==10.3.2.106 (from torch->transformers[torch])\n",
            "  Using cached nvidia_curand_cu12-10.3.2.106-py3-none-manylinux1_x86_64.whl (56.5 MB)\n",
            "Collecting nvidia-cusolver-cu12==11.4.5.107 (from torch->transformers[torch])\n",
            "  Using cached nvidia_cusolver_cu12-11.4.5.107-py3-none-manylinux1_x86_64.whl (124.2 MB)\n",
            "Collecting nvidia-cusparse-cu12==12.1.0.106 (from torch->transformers[torch])\n",
            "  Using cached nvidia_cusparse_cu12-12.1.0.106-py3-none-manylinux1_x86_64.whl (196.0 MB)\n",
            "Collecting nvidia-nccl-cu12==2.20.5 (from torch->transformers[torch])\n",
            "  Using cached nvidia_nccl_cu12-2.20.5-py3-none-manylinux2014_x86_64.whl (176.2 MB)\n",
            "Collecting nvidia-nvtx-cu12==12.1.105 (from torch->transformers[torch])\n",
            "  Using cached nvidia_nvtx_cu12-12.1.105-py3-none-manylinux1_x86_64.whl (99 kB)\n",
            "Requirement already satisfied: triton==2.3.0 in /usr/local/lib/python3.10/dist-packages (from torch->transformers[torch]) (2.3.0)\n",
            "Collecting nvidia-nvjitlink-cu12 (from nvidia-cusolver-cu12==11.4.5.107->torch->transformers[torch])\n",
            "  Downloading nvidia_nvjitlink_cu12-12.5.82-py3-none-manylinux2014_x86_64.whl (21.3 MB)\n",
            "\u001b[2K     \u001b[90m━━━━━━━━━━━━━━━━━━━━━━━━━━━━━━━━━━━━━━━━\u001b[0m \u001b[32m21.3/21.3 MB\u001b[0m \u001b[31m51.4 MB/s\u001b[0m eta \u001b[36m0:00:00\u001b[0m\n",
            "\u001b[?25hRequirement already satisfied: charset-normalizer<4,>=2 in /usr/local/lib/python3.10/dist-packages (from requests->transformers[torch]) (3.3.2)\n",
            "Requirement already satisfied: idna<4,>=2.5 in /usr/local/lib/python3.10/dist-packages (from requests->transformers[torch]) (3.7)\n",
            "Requirement already satisfied: urllib3<3,>=1.21.1 in /usr/local/lib/python3.10/dist-packages (from requests->transformers[torch]) (2.0.7)\n",
            "Requirement already satisfied: certifi>=2017.4.17 in /usr/local/lib/python3.10/dist-packages (from requests->transformers[torch]) (2024.6.2)\n",
            "Requirement already satisfied: MarkupSafe>=2.0 in /usr/local/lib/python3.10/dist-packages (from jinja2->torch->transformers[torch]) (2.1.5)\n",
            "Requirement already satisfied: mpmath<1.4.0,>=1.1.0 in /usr/local/lib/python3.10/dist-packages (from sympy->torch->transformers[torch]) (1.3.0)\n",
            "Installing collected packages: nvidia-nvtx-cu12, nvidia-nvjitlink-cu12, nvidia-nccl-cu12, nvidia-curand-cu12, nvidia-cufft-cu12, nvidia-cuda-runtime-cu12, nvidia-cuda-nvrtc-cu12, nvidia-cuda-cupti-cu12, nvidia-cublas-cu12, nvidia-cusparse-cu12, nvidia-cudnn-cu12, nvidia-cusolver-cu12, accelerate\n",
            "Successfully installed accelerate-0.32.1 nvidia-cublas-cu12-12.1.3.1 nvidia-cuda-cupti-cu12-12.1.105 nvidia-cuda-nvrtc-cu12-12.1.105 nvidia-cuda-runtime-cu12-12.1.105 nvidia-cudnn-cu12-8.9.2.26 nvidia-cufft-cu12-11.0.2.54 nvidia-curand-cu12-10.3.2.106 nvidia-cusolver-cu12-11.4.5.107 nvidia-cusparse-cu12-12.1.0.106 nvidia-nccl-cu12-2.20.5 nvidia-nvjitlink-cu12-12.5.82 nvidia-nvtx-cu12-12.1.105\n"
          ]
        }
      ]
    },
    {
      "cell_type": "code",
      "source": [
        "#@title Printing utils\n",
        "import torch\n",
        "import torch.nn as nn\n",
        "def recursive_print(module, prefix=\"\", depth=0, deepest=3):\n",
        "    \"\"\"Simulating print(module) for torch.nn.Modules\n",
        "        but with depth control. Print to the `deepest` level. `deepest=0` means no print\n",
        "    \"\"\"\n",
        "    if depth == 0:\n",
        "        print(f\"[{type(module).__name__}]\")\n",
        "    if depth >= deepest:\n",
        "        return\n",
        "    for name, child in module.named_children():\n",
        "        if len([*child.named_children()]) == 0:\n",
        "            print(f\"{prefix}({name}): {child}\")\n",
        "        else:\n",
        "            if isinstance(child, nn.ModuleList):\n",
        "                print(f\"{prefix}({name}): {type(child).__name__} len={len(child)}\")\n",
        "            else:\n",
        "                print(f\"{prefix}({name}): {type(child).__name__}\")\n",
        "        recursive_print(child, prefix + \"  \", depth + 1, deepest)"
      ],
      "metadata": {
        "id": "3BPlsjfWH-Ms"
      },
      "execution_count": 23,
      "outputs": []
    },
    {
      "cell_type": "code",
      "source": [
        "from transformers import GPT2Tokenizer, GPT2Model\n",
        "\n",
        "tokenizer = GPT2Tokenizer.from_pretrained(\"gpt2\")\n",
        "model = GPT2Model.from_pretrained(\"gpt2\")\n",
        "model.eval()"
      ],
      "metadata": {
        "colab": {
          "base_uri": "https://localhost:8080/",
          "height": 785,
          "referenced_widgets": [
            "ea416ef2b95d442e88cdfd980ce38ef4",
            "32b61951f67346e1b2420cd8b408df85",
            "577d94171cd6468aa37b6cea571ca8df",
            "66f31f058e4249dfb3564a98c5b92b24",
            "57e9015bfb3440fd8a9495d87b7127b2",
            "b0d9f02e93b048358a26664d9c433bde",
            "00cf89d403a84017b511b0f2e4e28446",
            "a82d38b7972a4027b20e2e12467b6b5c",
            "3c5f7a70ef9e410f97f12aef1bef8d0b",
            "5c588cce86f24ca0bc4b253f0c4f24e2",
            "e7c68274bb50484899d3f2b3b2c0a4d2",
            "a2cf414f4c5b486dbf779bfaa24cf225",
            "86b82c6d335744138d6ba0c2c3129be9",
            "78355ec70b564823be09e88474436cf5",
            "b552e26863ac4d0aaa3c1a9972a0a626",
            "bbc324fa05974125bafdfbd7898221ac",
            "97d145142e984e199572809aec9a4274",
            "0bf6ad4d9fbe4b3b8833ea24050cafe8",
            "995fcf8dbc2840aba18612bd8d10bb9b",
            "4c857b6203d041a2a4d238594636c326",
            "9308ee9b7c6b4a05bdd1a05f3ab2e812",
            "c0b41c5884334bd982461d9ee613abf6",
            "40f3125722cd4f75beda0d4ef822c7f7",
            "e9d5f80debe24e4d8140042f5d88aff9",
            "422c925526464111ab5498f43349404d",
            "ddd88a339dff4101849581d759617d61",
            "960a47c7c4af4ff8b864b683bf7f3080",
            "a4c0a57a072d4353aa96e967572ceea0",
            "2d9117014c4541e9ae3f18ba851be7e0",
            "ad5ec3df1dc045bfa16579d704d5d489",
            "ae0fc2a362924594b3bcb6e22cf75c4f",
            "66ab5e595fc349659c5dabd179a912b9",
            "bf8c9989965e4097a3737b13a69ee86e",
            "e5279e3b217d479fa8cb3bd8b66cac94",
            "a8d99714214b4f36aa1918da8ccea6e6",
            "f3860a30b5634cc9a1fefacd8917c62d",
            "4e91ae2c79224c0cbd5234a113168682",
            "ce8fdd1a84734d449774bc13df93fa41",
            "3730b29e8ecf438d849c4d8d24fa88d2",
            "5b482a4cf5e24a45bc7b9473252f1d20",
            "5fa4498deba049a5ac50df598d275f7b",
            "98b2d1c682d243758e0097d4cd32f8b9",
            "ab52cd9f3cba4f07b52ba9e4cc253f4b",
            "eb3e3475857942488701ae1fee704740",
            "7b7494e558b441f4b7e6fc16b373778b",
            "65c0ec75d440453ca9c638a4a08cd992",
            "6a378830f72d4c198962914a5be6728e",
            "f1e07759dd64496f80829ba82011f604",
            "60c483eb67e54f55bcfa1ae4c5765441",
            "c9426dc801f546c99ec0c038e58bc53c",
            "86cb6fc6166c41089082801b11f1ec46",
            "ee21a39ab8f74b4c809916f84eb41390",
            "7069c2dbb894436188c91453d947a881",
            "98c787d493f041cc9f62694ffcb7ddc0",
            "11cac25898e74491b9fd6ed4132283d9",
            "a9d9197d6c9b4642924133253611ebb7",
            "9396cc3210af4bae8f5efce85d432bf3",
            "cff21744b28a4265ac81f3638cb3b1f0",
            "21b986bdb5bb477c946b2d251f193f60",
            "fd380174b4914b67bd02dcc3c94f0691",
            "34dee9d9c39841548b7bf3560dc37579",
            "4711a85651bf4588b4fca93f483a7130",
            "94b1145219624bb5bce1df5cc152cb49",
            "d55dbd0d6e9344bfa157adbab7d2ddca",
            "88b2aca719fc42d484fe22f15cd1fb14",
            "018833911b5541d4aaea2d73bc980279"
          ]
        },
        "id": "3JeilpFDbB5P",
        "outputId": "1d80304d-7c25-479f-ec6e-0d7759983ca3"
      },
      "execution_count": 24,
      "outputs": [
        {
          "output_type": "stream",
          "name": "stderr",
          "text": [
            "/usr/local/lib/python3.10/dist-packages/huggingface_hub/utils/_token.py:89: UserWarning: \n",
            "The secret `HF_TOKEN` does not exist in your Colab secrets.\n",
            "To authenticate with the Hugging Face Hub, create a token in your settings tab (https://huggingface.co/settings/tokens), set it as secret in your Google Colab and restart your session.\n",
            "You will be able to reuse this secret in all of your notebooks.\n",
            "Please note that authentication is recommended but still optional to access public models or datasets.\n",
            "  warnings.warn(\n"
          ]
        },
        {
          "output_type": "display_data",
          "data": {
            "text/plain": [
              "tokenizer_config.json:   0%|          | 0.00/26.0 [00:00<?, ?B/s]"
            ],
            "application/vnd.jupyter.widget-view+json": {
              "version_major": 2,
              "version_minor": 0,
              "model_id": "ea416ef2b95d442e88cdfd980ce38ef4"
            }
          },
          "metadata": {}
        },
        {
          "output_type": "display_data",
          "data": {
            "text/plain": [
              "vocab.json:   0%|          | 0.00/1.04M [00:00<?, ?B/s]"
            ],
            "application/vnd.jupyter.widget-view+json": {
              "version_major": 2,
              "version_minor": 0,
              "model_id": "a2cf414f4c5b486dbf779bfaa24cf225"
            }
          },
          "metadata": {}
        },
        {
          "output_type": "display_data",
          "data": {
            "text/plain": [
              "merges.txt:   0%|          | 0.00/456k [00:00<?, ?B/s]"
            ],
            "application/vnd.jupyter.widget-view+json": {
              "version_major": 2,
              "version_minor": 0,
              "model_id": "40f3125722cd4f75beda0d4ef822c7f7"
            }
          },
          "metadata": {}
        },
        {
          "output_type": "display_data",
          "data": {
            "text/plain": [
              "tokenizer.json:   0%|          | 0.00/1.36M [00:00<?, ?B/s]"
            ],
            "application/vnd.jupyter.widget-view+json": {
              "version_major": 2,
              "version_minor": 0,
              "model_id": "e5279e3b217d479fa8cb3bd8b66cac94"
            }
          },
          "metadata": {}
        },
        {
          "output_type": "stream",
          "name": "stderr",
          "text": [
            "/usr/local/lib/python3.10/dist-packages/huggingface_hub/file_download.py:1132: FutureWarning: `resume_download` is deprecated and will be removed in version 1.0.0. Downloads always resume when possible. If you want to force a new download, use `force_download=True`.\n",
            "  warnings.warn(\n"
          ]
        },
        {
          "output_type": "display_data",
          "data": {
            "text/plain": [
              "config.json:   0%|          | 0.00/665 [00:00<?, ?B/s]"
            ],
            "application/vnd.jupyter.widget-view+json": {
              "version_major": 2,
              "version_minor": 0,
              "model_id": "7b7494e558b441f4b7e6fc16b373778b"
            }
          },
          "metadata": {}
        },
        {
          "output_type": "display_data",
          "data": {
            "text/plain": [
              "model.safetensors:   0%|          | 0.00/548M [00:00<?, ?B/s]"
            ],
            "application/vnd.jupyter.widget-view+json": {
              "version_major": 2,
              "version_minor": 0,
              "model_id": "a9d9197d6c9b4642924133253611ebb7"
            }
          },
          "metadata": {}
        },
        {
          "output_type": "execute_result",
          "data": {
            "text/plain": [
              "GPT2Model(\n",
              "  (wte): Embedding(50257, 768)\n",
              "  (wpe): Embedding(1024, 768)\n",
              "  (drop): Dropout(p=0.1, inplace=False)\n",
              "  (h): ModuleList(\n",
              "    (0-11): 12 x GPT2Block(\n",
              "      (ln_1): LayerNorm((768,), eps=1e-05, elementwise_affine=True)\n",
              "      (attn): GPT2Attention(\n",
              "        (c_attn): Conv1D()\n",
              "        (c_proj): Conv1D()\n",
              "        (attn_dropout): Dropout(p=0.1, inplace=False)\n",
              "        (resid_dropout): Dropout(p=0.1, inplace=False)\n",
              "      )\n",
              "      (ln_2): LayerNorm((768,), eps=1e-05, elementwise_affine=True)\n",
              "      (mlp): GPT2MLP(\n",
              "        (c_fc): Conv1D()\n",
              "        (c_proj): Conv1D()\n",
              "        (act): NewGELUActivation()\n",
              "        (dropout): Dropout(p=0.1, inplace=False)\n",
              "      )\n",
              "    )\n",
              "  )\n",
              "  (ln_f): LayerNorm((768,), eps=1e-05, elementwise_affine=True)\n",
              ")"
            ]
          },
          "metadata": {},
          "execution_count": 24
        }
      ]
    },
    {
      "cell_type": "markdown",
      "source": [
        "Let's first look at the general architecture of GPT2 (small), it's actually simple and elegant.\n",
        "* `wte` token embedding\n",
        "* `wpe` position embedding\n",
        "* `h` sequence of Transformer blocks\n",
        "* `LayerNorm` final normalization"
      ],
      "metadata": {
        "id": "7DjdGVciFQOd"
      }
    },
    {
      "cell_type": "code",
      "source": [
        "recursive_print(model, deepest=2)"
      ],
      "metadata": {
        "id": "gmm35lkvbl28",
        "colab": {
          "base_uri": "https://localhost:8080/"
        },
        "outputId": "6c1e9f7c-9756-497c-c298-082b38cd01ae"
      },
      "execution_count": 25,
      "outputs": [
        {
          "output_type": "stream",
          "name": "stdout",
          "text": [
            "[GPT2Model]\n",
            "(wte): Embedding(50257, 768)\n",
            "(wpe): Embedding(1024, 768)\n",
            "(drop): Dropout(p=0.1, inplace=False)\n",
            "(h): ModuleList len=12\n",
            "  (0): GPT2Block\n",
            "  (1): GPT2Block\n",
            "  (2): GPT2Block\n",
            "  (3): GPT2Block\n",
            "  (4): GPT2Block\n",
            "  (5): GPT2Block\n",
            "  (6): GPT2Block\n",
            "  (7): GPT2Block\n",
            "  (8): GPT2Block\n",
            "  (9): GPT2Block\n",
            "  (10): GPT2Block\n",
            "  (11): GPT2Block\n",
            "(ln_f): LayerNorm((768,), eps=1e-05, elementwise_affine=True)\n"
          ]
        }
      ]
    },
    {
      "cell_type": "markdown",
      "source": [
        "Within each GPT2block, you can see the similarity with our model"
      ],
      "metadata": {
        "id": "o4q3zAKeFs2e"
      }
    },
    {
      "cell_type": "code",
      "source": [
        "recursive_print(model.h[0], deepest=2)"
      ],
      "metadata": {
        "id": "KmlaUORNFLi-",
        "colab": {
          "base_uri": "https://localhost:8080/"
        },
        "outputId": "0240f28a-81a4-42d0-84de-ba497d570789"
      },
      "execution_count": 26,
      "outputs": [
        {
          "output_type": "stream",
          "name": "stdout",
          "text": [
            "[GPT2Block]\n",
            "(ln_1): LayerNorm((768,), eps=1e-05, elementwise_affine=True)\n",
            "(attn): GPT2Attention\n",
            "  (c_attn): Conv1D()\n",
            "  (c_proj): Conv1D()\n",
            "  (attn_dropout): Dropout(p=0.1, inplace=False)\n",
            "  (resid_dropout): Dropout(p=0.1, inplace=False)\n",
            "(ln_2): LayerNorm((768,), eps=1e-05, elementwise_affine=True)\n",
            "(mlp): GPT2MLP\n",
            "  (c_fc): Conv1D()\n",
            "  (c_proj): Conv1D()\n",
            "  (act): NewGELUActivation()\n",
            "  (dropout): Dropout(p=0.1, inplace=False)\n"
          ]
        }
      ]
    },
    {
      "cell_type": "markdown",
      "source": [
        "### GPT in action"
      ],
      "metadata": {
        "id": "VxtcMNbqOavV"
      }
    },
    {
      "cell_type": "code",
      "source": [
        "inputs = tokenizer(\"I have a cat, her name is\", return_tensors=\"pt\")\n",
        "outputs = model(**inputs, output_attentions=True, output_hidden_states=True)"
      ],
      "metadata": {
        "id": "z3zIEHZpD-BH"
      },
      "execution_count": 27,
      "outputs": []
    },
    {
      "cell_type": "markdown",
      "source": [
        "The tokens model reads are the following"
      ],
      "metadata": {
        "id": "PpRNpcUZJTXO"
      }
    },
    {
      "cell_type": "code",
      "source": [
        "token_strs = tokenizer.tokenize(\"I have a cat, her name is\")\n",
        "print(token_strs)\n",
        "token_strs = [tok.replace(\"Ġ\",\"\") for tok in token_strs]"
      ],
      "metadata": {
        "id": "4EAbfizAI799",
        "colab": {
          "base_uri": "https://localhost:8080/"
        },
        "outputId": "3712c358-e872-47ed-82f1-a694836bd4d5"
      },
      "execution_count": 28,
      "outputs": [
        {
          "output_type": "stream",
          "name": "stdout",
          "text": [
            "['I', 'Ġhave', 'Ġa', 'Ġcat', ',', 'Ġher', 'Ġname', 'Ġis']\n"
          ]
        }
      ]
    },
    {
      "cell_type": "code",
      "source": [
        "print(\"Shape of final output token vectors\", outputs.last_hidden_state.shape)\n",
        "# attention of each GPTBlock:\n",
        "print(\"num of attention outputs\", len(outputs.attentions))\n",
        "# shape of each attention tensor: [batch, heads, token (source), token (target)]\n",
        "print(\"shape of each attention tensor\", outputs.attentions[-1].shape)\n",
        "print(\"num of hidden states (input embed included.) \", len(outputs.hidden_states))\n",
        "print(\"shape of each hidden states tensor\", outputs.hidden_states[-1].shape) #[batch, token, hidden]\n",
        "assert torch.allclose(outputs.hidden_states[-1], outputs.last_hidden_state)"
      ],
      "metadata": {
        "id": "PRO5hXWYGmAV",
        "colab": {
          "base_uri": "https://localhost:8080/"
        },
        "outputId": "cec44f72-4dbc-4848-d72c-3d65fe47fe90"
      },
      "execution_count": 29,
      "outputs": [
        {
          "output_type": "stream",
          "name": "stdout",
          "text": [
            "Shape of final output token vectors torch.Size([1, 8, 768])\n",
            "num of attention outputs 12\n",
            "shape of each attention tensor torch.Size([1, 12, 8, 8])\n",
            "num of hidden states (input embed included.)  13\n",
            "shape of each hidden states tensor torch.Size([1, 8, 768])\n"
          ]
        }
      ]
    },
    {
      "cell_type": "code",
      "source": [
        "# @title Visualizaing attention\n",
        "for layeri in range(12):\n",
        "    plt.figure(figsize=(13, 8))\n",
        "    for head in range(12):\n",
        "        plt.subplot(3, 4, head + 1)\n",
        "        plt.imshow(outputs.attentions[layeri][0, head, :, :].detach().numpy())\n",
        "        plt.yticks(range(len(token_strs)), token_strs)\n",
        "        plt.xticks(range(len(token_strs)), token_strs)\n",
        "    plt.suptitle(f\"Layer {layeri} attention per head\",fontsize=14)\n",
        "    plt.show()"
      ],
      "metadata": {
        "id": "g49rGDCjJ2dR",
        "colab": {
          "base_uri": "https://localhost:8080/",
          "height": 1000
        },
        "outputId": "4116c75c-118d-4cd3-f10a-f2496ee821ad"
      },
      "execution_count": 30,
      "outputs": [
        {
          "output_type": "display_data",
          "data": {
            "text/plain": [
              "<Figure size 1300x800 with 12 Axes>"
            ],
            "image/png": "[encoded data removed]"
          },
          "metadata": {}
        },
        {
          "output_type": "display_data",
          "data": {
            "text/plain": [
              "<Figure size 1300x800 with 12 Axes>"
            ],
            "image/png": "[encoded data removed]"
          },
          "metadata": {}
        },
        {
          "output_type": "display_data",
          "data": {
            "text/plain": [
              "<Figure size 1300x800 with 12 Axes>"
            ],
            "image/png": "[encoded data removed]"
          },
          "metadata": {}
        },
        {
          "output_type": "display_data",
          "data": {
            "text/plain": [
              "<Figure size 1300x800 with 12 Axes>"
            ],
            "image/png": "[encoded data removed]"
          },
          "metadata": {}
        },
        {
          "output_type": "display_data",
          "data": {
            "text/plain": [
              "<Figure size 1300x800 with 12 Axes>"
            ],
            "image/png": "[encoded data removed]"
          },
          "metadata": {}
        },
        {
          "output_type": "display_data",
          "data": {
            "text/plain": [
              "<Figure size 1300x800 with 12 Axes>"
            ],
            "image/png": "[encoded data removed]"
          },
          "metadata": {}
        },
        {
          "output_type": "display_data",
          "data": {
            "text/plain": [
              "<Figure size 1300x800 with 12 Axes>"
            ],
            "image/png": "[encoded data removed]"
          },
          "metadata": {}
        },
        {
          "output_type": "display_data",
          "data": {
            "text/plain": [
              "<Figure size 1300x800 with 12 Axes>"
            ],
            "image/png": "[encoded data removed]"
          },
          "metadata": {}
        },
        {
          "output_type": "display_data",
          "data": {
            "text/plain": [
              "<Figure size 1300x800 with 12 Axes>"
            ],
            "image/png": "[encoded data removed]"
          },
          "metadata": {}
        },
        {
          "output_type": "display_data",
          "data": {
            "text/plain": [
              "<Figure size 1300x800 with 12 Axes>"
            ],
            "image/png": "[encoded data removed]"
          },
          "metadata": {}
        },
        {
          "output_type": "display_data",
          "data": {
            "text/plain": [
              "<Figure size 1300x800 with 12 Axes>"
            ],
            "image/png": "[encoded data removed]"
          },
          "metadata": {}
        },
        {
          "output_type": "display_data",
          "data": {
            "text/plain": [
              "<Figure size 1300x800 with 12 Axes>"
            ],
            "image/png": "[encoded data removed]"
          },
          "metadata": {}
        }
      ]
    },
    {
      "cell_type": "markdown",
      "source": [
        "## Extra Credit: GPT2 from scratch\n",
        "\n",
        "If you feel ambitious, you can build a GPT2 from scratch using all the building blocks we have."
      ],
      "metadata": {
        "id": "NRh3POyYPMJM"
      }
    },
    {
      "cell_type": "code",
      "source": [
        "# @title Weight transfer utils\n",
        "from transformers.activations import NewGELUActivation\n",
        "\n",
        "def GPT2block_to_TransformerBlock_simple(tfmblock, gpt2block, ):\n",
        "    \"\"\"copy the weights from a GPT2 block to a TransformerBlock_simple\"\"\"\n",
        "    tfmblock.ln1.weight.data = gpt2block.ln_1.weight\n",
        "    tfmblock.ln1.bias.data = gpt2block.ln_1.bias\n",
        "    tfmblock.ln2.weight.data = gpt2block.ln_2.weight\n",
        "    tfmblock.ln2.bias.data = gpt2block.ln_2.bias\n",
        "    tfmblock.attn.in_proj_weight.data = gpt2block.attn.c_attn.weight.T\n",
        "    tfmblock.attn.in_proj_bias.data = gpt2block.attn.c_attn.bias\n",
        "    tfmblock.attn.out_proj.weight.data = gpt2block.attn.c_proj.weight.T\n",
        "    tfmblock.attn.out_proj.bias.data = gpt2block.attn.c_proj.bias\n",
        "    tfmblock.ffn[0].weight.data = gpt2block.mlp.c_fc.weight.T\n",
        "    tfmblock.ffn[0].bias.data = gpt2block.mlp.c_fc.bias\n",
        "    tfmblock.ffn[1] = NewGELUActivation()\n",
        "    # mlp in GPT2 and BERT used a new GELU activation, using nn.GeLU() will cause a small error around 1E-3\n",
        "    tfmblock.ffn[2].weight.data = gpt2block.mlp.c_proj.weight.T\n",
        "    tfmblock.ffn[2].bias.data = gpt2block.mlp.c_proj.bias\n",
        "    return tfmblock"
      ],
      "metadata": {
        "id": "ItTlhIUCQcgU"
      },
      "execution_count": 31,
      "outputs": []
    },
    {
      "cell_type": "markdown",
      "source": [
        "Let's test if our implementation of model is the same as the transformer block"
      ],
      "metadata": {
        "id": "t6amdmPJR8cE"
      }
    },
    {
      "cell_type": "code",
      "source": [
        "embdim = 768\n",
        "headcnt = 12\n",
        "tfmblock = TransformerBlock_simple(embdim, headcnt)\n",
        "GPT2block_to_TransformerBlock_simple(tfmblock, model.h[0])\n",
        "\n",
        "tokens_embs = torch.randn(2, 5, 768)\n",
        "tfmblock_out = tfmblock(tokens_embs, is_causal=True)\n",
        "modelblock_out, = model.h[0](tokens_embs)\n",
        "assert torch.allclose(tfmblock_out, modelblock_out, atol=1e-5, rtol=1e-5)"
      ],
      "metadata": {
        "id": "oV3CMx9HRmcd"
      },
      "execution_count": 32,
      "outputs": []
    },
    {
      "cell_type": "markdown",
      "source": [
        "### Define a simple GPT2"
      ],
      "metadata": {
        "id": "WVUD8tLRShhE"
      }
    },
    {
      "cell_type": "code",
      "source": [
        "class GPT2Model_simple(nn.Module):\n",
        "\n",
        "    def __init__(self):\n",
        "        super().__init__()\n",
        "        self.wte = nn.Embedding(50257, 768)\n",
        "        self.wpe = nn.Embedding(1024, 768)\n",
        "        self.blocks = nn.ModuleList([TransformerBlock_simple(768, 12) for _ in range(12)])\n",
        "        self.ln_f = nn.LayerNorm(768)\n",
        "\n",
        "    def forward(self, input_ids, input_embeds=None, is_causal=True):\n",
        "        embeds = self.wte(input_ids) if input_embeds is None else input_embeds\n",
        "        embeds = embeds + self.wpe(torch.arange(embeds.shape[1], device=embeds.device))\n",
        "        for block in self.blocks:\n",
        "            embeds = block(embeds, is_causal=is_causal)\n",
        "        return self.ln_f(embeds)\n"
      ],
      "metadata": {
        "id": "TNdg1JBMSkOs"
      },
      "execution_count": 33,
      "outputs": []
    },
    {
      "cell_type": "code",
      "source": [
        "#@title Weight transport utils\n",
        "def GPT2Model_to_GPT2Model_simple(gpt2modelsimple, gpt2model, ):\n",
        "    \"\"\"copy the weights from a GPT2 model to a GPT2Model_simple\"\"\"\n",
        "    gpt2modelsimple.wte.weight.data = gpt2model.wte.weight\n",
        "    gpt2modelsimple.wpe.weight.data = gpt2model.wpe.weight\n",
        "    gpt2modelsimple.ln_f.weight.data = gpt2model.ln_f.weight\n",
        "    gpt2modelsimple.ln_f.bias.data = gpt2model.ln_f.bias\n",
        "    for i in range(12):\n",
        "        GPT2block_to_TransformerBlock_simple(gpt2modelsimple.blocks[i], gpt2model.h[i])\n",
        "    return gpt2modelsimple"
      ],
      "metadata": {
        "cellView": "form",
        "id": "O-NgWzwGSvXs"
      },
      "execution_count": 34,
      "outputs": []
    },
    {
      "cell_type": "code",
      "source": [
        "model_ours = GPT2Model_simple()\n",
        "GPT2Model_to_GPT2Model_simple(model_ours, model)"
      ],
      "metadata": {
        "id": "XPDr2AeIQkhU",
        "colab": {
          "base_uri": "https://localhost:8080/"
        },
        "outputId": "600abff4-79bc-43b3-81a8-3d368ebe819b"
      },
      "execution_count": 35,
      "outputs": [
        {
          "output_type": "execute_result",
          "data": {
            "text/plain": [
              "GPT2Model_simple(\n",
              "  (wte): Embedding(50257, 768)\n",
              "  (wpe): Embedding(1024, 768)\n",
              "  (blocks): ModuleList(\n",
              "    (0-11): 12 x TransformerBlock_simple(\n",
              "      (ln1): LayerNorm((768,), eps=1e-05, elementwise_affine=True)\n",
              "      (ln2): LayerNorm((768,), eps=1e-05, elementwise_affine=True)\n",
              "      (attn): MultiheadAttention(\n",
              "        (out_proj): NonDynamicallyQuantizableLinear(in_features=768, out_features=768, bias=True)\n",
              "      )\n",
              "      (ffn): Sequential(\n",
              "        (0): Linear(in_features=768, out_features=3072, bias=True)\n",
              "        (1): NewGELUActivation()\n",
              "        (2): Linear(in_features=3072, out_features=768, bias=True)\n",
              "        (3): Dropout(p=0.0, inplace=False)\n",
              "      )\n",
              "    )\n",
              "  )\n",
              "  (ln_f): LayerNorm((768,), eps=1e-05, elementwise_affine=True)\n",
              ")"
            ]
          },
          "metadata": {},
          "execution_count": 35
        }
      ]
    },
    {
      "cell_type": "code",
      "source": [
        "inputs = tokenizer(\"I have a cat, her name is\", return_tensors=\"pt\")\n",
        "outputs = model(**inputs, )"
      ],
      "metadata": {
        "id": "IBh9uMpZTLpU"
      },
      "execution_count": 36,
      "outputs": []
    },
    {
      "cell_type": "code",
      "source": [
        "hidden_last_ours = model_ours(inputs['input_ids'])"
      ],
      "metadata": {
        "id": "Z2VR3ZKhTYpt"
      },
      "execution_count": 37,
      "outputs": []
    },
    {
      "cell_type": "code",
      "source": [
        "assert torch.allclose(outputs.last_hidden_state, hidden_last_ours, atol=1e-5, rtol=1e-5)"
      ],
      "metadata": {
        "id": "miLGwamUTgc_"
      },
      "execution_count": 38,
      "outputs": []
    },
    {
      "cell_type": "markdown",
      "source": [
        "Congrats on finishing this journey of building your own GPT!\n",
        "\n",
        "Now, let the GPU roar and train the transformer!"
      ],
      "metadata": {
        "id": "Z0Y6UqK7U4wU"
      }
    },
    {
      "cell_type": "markdown",
      "source": [
        "## What's next\n",
        "**Transformer Tutorial Series**\n",
        "* Fundamentals\n",
        "  * [Understanding Attention & Transformer](https://colab.research.google.com/drive/1ZuhA6khlWm57WGZ8i38JH-gc5aJrvpvs?usp=sharing)\n",
        "  * [Language modelling](https://colab.research.google.com/drive/1zZYzAopL__LW4glruSF9lnZYlEmSVI8j?usp=sharing)\n",
        "* Beyond Language\n",
        "  * [Learn to do arithmetics by sequence modelling.](https://colab.research.google.com/drive/1vO71-o-8-3IrOe44Ha0nsHmUsEGVSC37?usp=sharing)\n",
        "  * [Image generation by sequence modelling.](https://colab.research.google.com/drive/1UHlEbepqdvk68cYV1fvkmWl2TBKXfm8E?usp=sharing)\n",
        "  * [Audio signal classification](https://colab.research.google.com/drive/1O4XHOJyOu3_lyaPHAKJM_XTztrAb7VFP?usp=sharing) (~ 20 min)\n",
        "  * [Image classification](https://colab.research.google.com/drive/1JDQQlLMGzo675AfrtkFn1kbuADtVemJz?usp=sharing) (~ 30 min)\n",
        "  * [Music generation by sequence modelling.](https://colab.research.google.com/drive/14zpzLpR4UBIzEQmeaXlMv_mDFYIv3Vht?usp=sharing) (Difficult, training takes hrs)\n",
        "* Using Large Language Model\n",
        "  * [OpenAI API and Chat with PDF](https://colab.research.google.com/drive/19mYEyavBhOnAbEQJQuztXAxWxyYbsQzi?usp=sharing)\n"
      ],
      "metadata": {
        "id": "N-6LDHtBqfuu"
      }
    },
    {
      "cell_type": "markdown",
      "source": [
        "### See also\n",
        "* Code tutorial https://nn.labml.ai/transformers/index.html\n",
        "\n"
      ],
      "metadata": {
        "id": "ZpTc2pkyEM7t"
      }
    },
    {
      "cell_type": "markdown",
      "source": [
        "## Reference: GPT2 source code in huggingface implementation"
      ],
      "metadata": {
        "id": "qavZE0UXfDmO"
      }
    },
    {
      "cell_type": "markdown",
      "source": [
        "If you are interested, we also copied the code of GPT2 within transformer library here for your review."
      ],
      "metadata": {
        "id": "oQ99CUa0gUSL"
      }
    },
    {
      "cell_type": "markdown",
      "source": [
        "Implementation of a single GPT block (repetition unit of GPT)\n",
        "```python\n",
        "class GPT2Block(nn.Module):\n",
        "    def __init__(self, config, layer_idx=None):\n",
        "        super().__init__()\n",
        "        hidden_size = config.hidden_size\n",
        "        inner_dim = config.n_inner if config.n_inner is not None else 4 * hidden_size\n",
        "\n",
        "        self.ln_1 = nn.LayerNorm(hidden_size, eps=config.layer_norm_epsilon)\n",
        "        self.attn = GPT2Attention(config, layer_idx=layer_idx)\n",
        "        self.ln_2 = nn.LayerNorm(hidden_size, eps=config.layer_norm_epsilon)\n",
        "\n",
        "        if config.add_cross_attention:\n",
        "            # attention to encoder stuff\n",
        "            self.crossattention = GPT2Attention(config,\n",
        "            self.ln_cross_attn = nn.LayerNorm(hidden_size, eps=config.layer_norm_epsilon)\n",
        "\n",
        "        self.mlp = GPT2MLP(inner_dim, config)\n",
        "\n",
        "    def forward(\n",
        "        self,\n",
        "        hidden_states: Optional[Tuple[torch.FloatTensor]],\n",
        "        layer_past: Optional[Tuple[torch.Tensor]] = None,\n",
        "        attention_mask: Optional[torch.FloatTensor] = None,\n",
        "        head_mask: Optional[torch.FloatTensor] = None,\n",
        "        encoder_hidden_states: Optional[torch.Tensor] = None,\n",
        "        encoder_attention_mask: Optional[torch.FloatTensor] = None,\n",
        "        use_cache: Optional[bool] = False,\n",
        "        output_attentions: Optional[bool] = False,\n",
        "    ) -> Union[Tuple[torch.Tensor], Optional[Tuple[torch.Tensor, Tuple[torch.FloatTensor, ...]]]]:\n",
        "        residual = hidden_states\n",
        "        hidden_states = self.ln_1(hidden_states) # layernorm 1\n",
        "        attn_outputs = self.attn(\n",
        "            hidden_states,\n",
        "            layer_past=layer_past,\n",
        "            attention_mask=attention_mask,\n",
        "            head_mask=head_mask,\n",
        "            use_cache=use_cache,\n",
        "            output_attentions=output_attentions,\n",
        "        )  # attention\n",
        "        attn_output = attn_outputs[0]  # output_attn: a, present, (attentions)\n",
        "        outputs = attn_outputs[1:]\n",
        "        # residual connection\n",
        "        hidden_states = attn_output + residual\n",
        "\n",
        "        if encoder_hidden_states is not None:\n",
        "            # add one self-attention block for cross-attention\n",
        "            if not hasattr(self, \"crossattention\"):\n",
        "                raise ValueError(\n",
        "                    f\"If `encoder_hidden_states` are passed, {self} has to be instantiated with \"\n",
        "                    \"cross-attention layers by setting `config.add_cross_attention=True`\"\n",
        "                )\n",
        "            residual = hidden_states\n",
        "            hidden_states = self.ln_cross_attn(hidden_states)\n",
        "            cross_attn_outputs = self.crossattention(\n",
        "                hidden_states,\n",
        "                attention_mask=attention_mask,\n",
        "                head_mask=head_mask,\n",
        "                encoder_hidden_states=encoder_hidden_states,\n",
        "                encoder_attention_mask=encoder_attention_mask,\n",
        "                output_attentions=output_attentions,\n",
        "            )\n",
        "            attn_output = cross_attn_outputs[0]\n",
        "            # residual connection\n",
        "            hidden_states = residual + attn_output\n",
        "            outputs = outputs + cross_attn_outputs[2:]  # add cross attentions if we output attention weights\n",
        "\n",
        "        residual = hidden_states\n",
        "        hidden_states = self.ln_2(hidden_states) # apply ln2 after adding attention processing.\n",
        "        feed_forward_hidden_states = self.mlp(hidden_states) # mlp process the hidden state\n",
        "        # residual connection\n",
        "        hidden_states = residual + feed_forward_hidden_states\n",
        "\n",
        "        if use_cache:\n",
        "            outputs = (hidden_states,) + outputs\n",
        "        else:\n",
        "            outputs = (hidden_states,) + outputs[1:]\n",
        "\n",
        "        return outputs  # hidden_states, present, (attentions, cross_attentions)\n",
        "```"
      ],
      "metadata": {
        "id": "CsLekntcb71g"
      }
    },
    {
      "cell_type": "markdown",
      "source": [
        "Custom designed Conv1D layer in huggingface (basically a linear layer)\n",
        "```python\n",
        "class Conv1D(nn.Module):\n",
        "    \"\"\"\n",
        "    1D-convolutional layer as defined by Radford et al. for OpenAI GPT (and also used in GPT-2).\n",
        "    Basically works like a linear layer but the weights are transposed.\n",
        "    Args:\n",
        "        nf (`int`): The number of output features.\n",
        "        nx (`int`): The number of input features.\n",
        "    \"\"\"\n",
        "\n",
        "    def __init__(self, nf, nx):\n",
        "        super().__init__()\n",
        "        self.nf = nf\n",
        "        w = torch.empty(nx, nf)\n",
        "        nn.init.normal_(w, std=0.02)\n",
        "        self.weight = nn.Parameter(w)\n",
        "        self.bias = nn.Parameter(torch.zeros(nf))\n",
        "\n",
        "    def forward(self, x):\n",
        "        size_out = x.size()[:-1] + (self.nf,)\n",
        "        x = torch.addmm(self.bias, x.view(-1, x.size(-1)), self.weight)\n",
        "        x = x.view(size_out)\n",
        "        return x\n",
        "```"
      ],
      "metadata": {
        "id": "SYerj8MHe63e"
      }
    },
    {
      "cell_type": "markdown",
      "source": [
        "Attention mechanism implemented in GPT2\n",
        "```python\n",
        "class GPT2Attention(nn.Module):\n",
        "    def __init__(self, config, is_cross_attention=False, layer_idx=None):\n",
        "        super().__init__()\n",
        "\n",
        "        max_positions = config.max_position_embeddings\n",
        "        self.register_buffer(\n",
        "            \"bias\",\n",
        "            torch.tril(torch.ones((max_positions, max_positions), dtype=torch.uint8)).view(\n",
        "                1, 1, max_positions, max_positions\n",
        "            ),\n",
        "        )\n",
        "        self.register_buffer(\"masked_bias\", torch.tensor(-1e4))\n",
        "\n",
        "        self.embed_dim = config.hidden_size\n",
        "        self.num_heads = config.num_attention_heads\n",
        "        self.head_dim = self.embed_dim // self.num_heads\n",
        "        self.split_size = self.embed_dim\n",
        "        if self.head_dim * self.num_heads != self.embed_dim:\n",
        "            raise ValueError(\n",
        "                f\"`embed_dim` must be divisible by num_heads (got `embed_dim`: {self.embed_dim} and `num_heads`:\"\n",
        "                f\" {self.num_heads}).\"\n",
        "            )\n",
        "\n",
        "        self.scale_attn_weights = config.scale_attn_weights\n",
        "        self.is_cross_attention = is_cross_attention\n",
        "\n",
        "        # Layer-wise attention scaling, reordering, and upcasting\n",
        "        self.scale_attn_by_inverse_layer_idx = config.scale_attn_by_inverse_layer_idx\n",
        "        self.layer_idx = layer_idx\n",
        "        self.reorder_and_upcast_attn = config.reorder_and_upcast_attn\n",
        "\n",
        "        if self.is_cross_attention:\n",
        "            self.c_attn = Conv1D(2 * self.embed_dim, self.embed_dim)\n",
        "            self.q_attn = Conv1D(self.embed_dim, self.embed_dim)\n",
        "        else:\n",
        "            self.c_attn = Conv1D(3 * self.embed_dim, self.embed_dim)\n",
        "        self.c_proj = Conv1D(self.embed_dim, self.embed_dim)\n",
        "\n",
        "        self.attn_dropout = nn.Dropout(config.attn_pdrop)\n",
        "        self.resid_dropout = nn.Dropout(config.resid_pdrop)\n",
        "\n",
        "        self.pruned_heads = set()\n",
        "\n",
        "    def prune_heads(self, heads):\n",
        "        if len(heads) == 0:\n",
        "            return\n",
        "        heads, index = find_pruneable_heads_and_indices(heads, self.num_heads, self.head_dim, self.pruned_heads)\n",
        "        index_attn = torch.cat([index, index + self.split_size, index + (2 * self.split_size)])\n",
        "\n",
        "        # Prune conv1d layers\n",
        "        self.c_attn = prune_conv1d_layer(self.c_attn, index_attn, dim=1)\n",
        "        self.c_proj = prune_conv1d_layer(self.c_proj, index, dim=0)\n",
        "\n",
        "        # Update hyper params\n",
        "        self.split_size = (self.split_size // self.num_heads) * (self.num_heads - len(heads))\n",
        "        self.num_heads = self.num_heads - len(heads)\n",
        "        self.pruned_heads = self.pruned_heads.union(heads)\n",
        "\n",
        "    def _attn(self, query, key, value, attention_mask=None, head_mask=None):\n",
        "        attn_weights = torch.matmul(query, key.transpose(-1, -2))\n",
        "\n",
        "        if self.scale_attn_weights:\n",
        "            attn_weights = attn_weights / torch.tensor(\n",
        "                value.size(-1) ** 0.5, dtype=attn_weights.dtype, device=attn_weights.device\n",
        "            )\n",
        "\n",
        "        # Layer-wise attention scaling\n",
        "        if self.scale_attn_by_inverse_layer_idx:\n",
        "            attn_weights = attn_weights / float(self.layer_idx + 1)\n",
        "\n",
        "        if not self.is_cross_attention:\n",
        "            # if only \"normal\" attention layer implements causal mask\n",
        "            query_length, key_length = query.size(-2), key.size(-2)\n",
        "            causal_mask = self.bias[:, :, key_length - query_length : key_length, :key_length].to(torch.bool)\n",
        "            mask_value = torch.finfo(attn_weights.dtype).min\n",
        "            # Need to be a tensor, otherwise we get error: `RuntimeError: expected scalar type float but found double`.\n",
        "            # Need to be on the same device, otherwise `RuntimeError: ..., x and y to be on the same device`\n",
        "            mask_value = torch.tensor(mask_value, dtype=attn_weights.dtype).to(attn_weights.device)\n",
        "            attn_weights = torch.where(causal_mask, attn_weights, mask_value)\n",
        "\n",
        "        if attention_mask is not None:\n",
        "            # Apply the attention mask\n",
        "            attn_weights = attn_weights + attention_mask\n",
        "\n",
        "        attn_weights = nn.functional.softmax(attn_weights, dim=-1)\n",
        "\n",
        "        # Downcast (if necessary) back to V's dtype (if in mixed-precision) -- No-Op otherwise\n",
        "        attn_weights = attn_weights.type(value.dtype)\n",
        "        attn_weights = self.attn_dropout(attn_weights)\n",
        "\n",
        "        # Mask heads if we want to\n",
        "        if head_mask is not None:\n",
        "            attn_weights = attn_weights * head_mask\n",
        "\n",
        "        attn_output = torch.matmul(attn_weights, value)\n",
        "\n",
        "        return attn_output, attn_weights\n",
        "\n",
        "    def _upcast_and_reordered_attn(self, query, key, value, attention_mask=None, head_mask=None):\n",
        "        # Use `torch.baddbmm` (a bit more efficient w/ alpha param for scaling -- from Megatron-LM)\n",
        "        bsz, num_heads, q_seq_len, dk = query.size()\n",
        "        _, _, k_seq_len, _ = key.size()\n",
        "\n",
        "        # Preallocate attn_weights for `baddbmm`\n",
        "        attn_weights = torch.empty(bsz * num_heads, q_seq_len, k_seq_len, dtype=torch.float32, device=query.device)\n",
        "\n",
        "        # Compute Scale Factor\n",
        "        scale_factor = 1.0\n",
        "        if self.scale_attn_weights:\n",
        "            scale_factor /= float(value.size(-1)) ** 0.5\n",
        "\n",
        "        if self.scale_attn_by_inverse_layer_idx:\n",
        "            scale_factor /= float(self.layer_idx + 1)\n",
        "\n",
        "        # Upcast (turn off autocast) and reorder (Scale K by 1 / root(dk))\n",
        "        with autocast(enabled=False):\n",
        "            q, k = query.reshape(-1, q_seq_len, dk), key.transpose(-1, -2).reshape(-1, dk, k_seq_len)\n",
        "            attn_weights = torch.baddbmm(attn_weights, q.float(), k.float(), beta=0, alpha=scale_factor)\n",
        "            attn_weights = attn_weights.reshape(bsz, num_heads, q_seq_len, k_seq_len)\n",
        "\n",
        "        if not self.is_cross_attention:\n",
        "            # if only \"normal\" attention layer implements causal mask\n",
        "            query_length, key_length = query.size(-2), key.size(-2)\n",
        "            causal_mask = self.bias[:, :, key_length - query_length : key_length, :key_length].bool()\n",
        "            mask_value = torch.finfo(attn_weights.dtype).min\n",
        "            # Need to be a tensor, otherwise we get error: `RuntimeError: expected scalar type float but found double`.\n",
        "            # Need to be on the same device, otherwise `RuntimeError: ..., x and y to be on the same device`\n",
        "            mask_value = torch.tensor(mask_value, dtype=attn_weights.dtype).to(attn_weights.device)\n",
        "            attn_weights = torch.where(causal_mask, attn_weights, mask_value)\n",
        "\n",
        "        if attention_mask is not None:\n",
        "            # Apply the attention mask\n",
        "            attn_weights = attn_weights + attention_mask\n",
        "\n",
        "        attn_weights = nn.functional.softmax(attn_weights, dim=-1)\n",
        "\n",
        "        # Downcast (if necessary) back to V's dtype (if in mixed-precision) -- No-Op if otherwise\n",
        "        if attn_weights.dtype != torch.float32:\n",
        "            raise RuntimeError(\"Error with upcasting, attn_weights does not have dtype torch.float32\")\n",
        "        attn_weights = attn_weights.type(value.dtype)\n",
        "        attn_weights = self.attn_dropout(attn_weights)\n",
        "\n",
        "        # Mask heads if we want to\n",
        "        if head_mask is not None:\n",
        "            attn_weights = attn_weights * head_mask\n",
        "\n",
        "        attn_output = torch.matmul(attn_weights, value)\n",
        "\n",
        "        return attn_output, attn_weights\n",
        "\n",
        "    def _split_heads(self, tensor, num_heads, attn_head_size):\n",
        "        \"\"\"\n",
        "        Splits hidden_size dim into attn_head_size and num_heads\n",
        "        \"\"\"\n",
        "        new_shape = tensor.size()[:-1] + (num_heads, attn_head_size)\n",
        "        tensor = tensor.view(new_shape) # (batch, seq_len, headnum, head_features)\n",
        "        return tensor.permute(0, 2, 1, 3)  # (batch, head, seq_length, head_features)\n",
        "\n",
        "    def _merge_heads(self, tensor, num_heads, attn_head_size):\n",
        "        \"\"\"\n",
        "        Merges attn_head_size dim and num_attn_heads dim into hidden_size\n",
        "        \"\"\"\n",
        "        tensor = tensor.permute(0, 2, 1, 3).contiguous()\n",
        "        new_shape = tensor.size()[:-2] + (num_heads * attn_head_size,)\n",
        "        return tensor.view(new_shape)\n",
        "\n",
        "    def forward(\n",
        "        self,\n",
        "        hidden_states: Optional[Tuple[torch.FloatTensor]],\n",
        "        layer_past: Optional[Tuple[torch.Tensor]] = None,\n",
        "        attention_mask: Optional[torch.FloatTensor] = None,\n",
        "        head_mask: Optional[torch.FloatTensor] = None,\n",
        "        encoder_hidden_states: Optional[torch.Tensor] = None,\n",
        "        encoder_attention_mask: Optional[torch.FloatTensor] = None,\n",
        "        use_cache: Optional[bool] = False,\n",
        "        output_attentions: Optional[bool] = False,\n",
        "    ) -> Tuple[Union[torch.Tensor, Tuple[torch.Tensor]], ...]:\n",
        "        if encoder_hidden_states is not None:\n",
        "            if not hasattr(self, \"q_attn\"):\n",
        "                raise ValueError(\n",
        "                    \"If class is used as cross attention, the weights `q_attn` have to be defined. \"\n",
        "                    \"Please make sure to instantiate class with `GPT2Attention(..., is_cross_attention=True)`.\"\n",
        "                )\n",
        "\n",
        "            query = self.q_attn(hidden_states)\n",
        "            key, value = self.c_attn(encoder_hidden_states).split(self.split_size, dim=2)\n",
        "            attention_mask = encoder_attention_mask\n",
        "        else:\n",
        "            query, key, value = self.c_attn(hidden_states).split(self.split_size, dim=2)\n",
        "\n",
        "        query = self._split_heads(query, self.num_heads, self.head_dim)\n",
        "        key = self._split_heads(key, self.num_heads, self.head_dim)\n",
        "        value = self._split_heads(value, self.num_heads, self.head_dim)\n",
        "\n",
        "        if layer_past is not None:\n",
        "            past_key, past_value = layer_past\n",
        "            key = torch.cat((past_key, key), dim=-2)\n",
        "            value = torch.cat((past_value, value), dim=-2)\n",
        "\n",
        "        if use_cache is True:\n",
        "            present = (key, value)\n",
        "        else:\n",
        "            present = None\n",
        "\n",
        "        if self.reorder_and_upcast_attn:\n",
        "            attn_output, attn_weights = self._upcast_and_reordered_attn(query, key, value, attention_mask, head_mask)\n",
        "        else:\n",
        "            attn_output, attn_weights = self._attn(query, key, value, attention_mask, head_mask)\n",
        "\n",
        "        attn_output = self._merge_heads(attn_output, self.num_heads, self.head_dim)\n",
        "        attn_output = self.c_proj(attn_output)\n",
        "        attn_output = self.resid_dropout(attn_output)\n",
        "\n",
        "        outputs = (attn_output, present)\n",
        "        if output_attentions:\n",
        "            outputs += (attn_weights,)\n",
        "\n",
        "        return outputs  # a, present, (attentions)\n",
        "```"
      ],
      "metadata": {
        "id": "dlKSe8pzc_GY"
      }
    },
    {
      "cell_type": "markdown",
      "source": [
        "MLP in GPT2.\n",
        "```python\n",
        "class GPT2MLP(nn.Module):\n",
        "    def __init__(self, intermediate_size, config):\n",
        "        super().__init__()\n",
        "        embed_dim = config.hidden_size\n",
        "        self.c_fc = Conv1D(intermediate_size, embed_dim)\n",
        "        self.c_proj = Conv1D(embed_dim, intermediate_size)\n",
        "        self.act = ACT2FN[config.activation_function]\n",
        "        self.dropout = nn.Dropout(config.resid_pdrop)\n",
        "\n",
        "    def forward(self, hidden_states: Optional[Tuple[torch.FloatTensor]]) -> torch.FloatTensor:\n",
        "        hidden_states = self.c_fc(hidden_states)\n",
        "        hidden_states = self.act(hidden_states)\n",
        "        hidden_states = self.c_proj(hidden_states)\n",
        "        hidden_states = self.dropout(hidden_states)\n",
        "        return hidden_states\n",
        "```"
      ],
      "metadata": {
        "id": "0w0ASKLcgCkC"
      }
    }
  ]
}